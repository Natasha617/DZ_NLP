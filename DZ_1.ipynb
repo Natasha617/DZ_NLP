{
  "nbformat": 4,
  "nbformat_minor": 0,
  "metadata": {
    "colab": {
      "provenance": [],
      "authorship_tag": "ABX9TyO4ngrNrTZXfJh/N2IM3wp/",
      "include_colab_link": true
    },
    "kernelspec": {
      "name": "python3",
      "display_name": "Python 3"
    },
    "language_info": {
      "name": "python"
    }
  },
  "cells": [
    {
      "cell_type": "markdown",
      "metadata": {
        "id": "view-in-github",
        "colab_type": "text"
      },
      "source": [
        "<a href=\"https://colab.research.google.com/github/Natasha617/DZ_NLP/blob/DZ_1/DZ_1.ipynb\" target=\"_parent\"><img src=\"https://colab.research.google.com/assets/colab-badge.svg\" alt=\"Open In Colab\"/></a>"
      ]
    },
    {
      "cell_type": "markdown",
      "source": [
        "# **Домашнее №1 (Шафорост Н.В.)**"
      ],
      "metadata": {
        "id": "vuhM-qXVrpts"
      }
    },
    {
      "cell_type": "code",
      "execution_count": 1,
      "metadata": {
        "colab": {
          "base_uri": "https://localhost:8080/"
        },
        "id": "xxghm_Ebmi01",
        "outputId": "e64d68ff-a7ed-463d-d1a7-2926a946eaf8"
      },
      "outputs": [
        {
          "output_type": "stream",
          "name": "stdout",
          "text": [
            "Collecting corus\n",
            "  Downloading corus-0.10.0-py3-none-any.whl (83 kB)\n",
            "\u001b[?25l     \u001b[90m━━━━━━━━━━━━━━━━━━━━━━━━━━━━━━━━━━━━━━━━\u001b[0m \u001b[32m0.0/83.7 kB\u001b[0m \u001b[31m?\u001b[0m eta \u001b[36m-:--:--\u001b[0m\r\u001b[2K     \u001b[91m━━━━━━━━━━━━━━━━━━━━━━━━━━━━━━━━━━━━━━━\u001b[0m\u001b[90m╺\u001b[0m \u001b[32m81.9/83.7 kB\u001b[0m \u001b[31m2.6 MB/s\u001b[0m eta \u001b[36m0:00:01\u001b[0m\r\u001b[2K     \u001b[90m━━━━━━━━━━━━━━━━━━━━━━━━━━━━━━━━━━━━━━━━\u001b[0m \u001b[32m83.7/83.7 kB\u001b[0m \u001b[31m2.1 MB/s\u001b[0m eta \u001b[36m0:00:00\u001b[0m\n",
            "\u001b[?25hInstalling collected packages: corus\n",
            "Successfully installed corus-0.10.0\n"
          ]
        }
      ],
      "source": [
        "!pip install corus"
      ]
    },
    {
      "cell_type": "markdown",
      "source": [
        "```rjl```"
      ],
      "metadata": {
        "id": "0plqpoyA-jzb"
      }
    },
    {
      "cell_type": "code",
      "source": [
        "!pip install pymystem3"
      ],
      "metadata": {
        "colab": {
          "base_uri": "https://localhost:8080/"
        },
        "id": "gzVbUSQI6jFx",
        "outputId": "3d41d504-e859-4b02-ff42-46ad5c2c9e37"
      },
      "execution_count": 42,
      "outputs": [
        {
          "output_type": "stream",
          "name": "stdout",
          "text": [
            "Requirement already satisfied: pymystem3 in /usr/local/lib/python3.10/dist-packages (0.2.0)\n",
            "Requirement already satisfied: requests in /usr/local/lib/python3.10/dist-packages (from pymystem3) (2.31.0)\n",
            "Requirement already satisfied: charset-normalizer<4,>=2 in /usr/local/lib/python3.10/dist-packages (from requests->pymystem3) (3.2.0)\n",
            "Requirement already satisfied: idna<4,>=2.5 in /usr/local/lib/python3.10/dist-packages (from requests->pymystem3) (3.4)\n",
            "Requirement already satisfied: urllib3<3,>=1.21.1 in /usr/local/lib/python3.10/dist-packages (from requests->pymystem3) (2.0.4)\n",
            "Requirement already satisfied: certifi>=2017.4.17 in /usr/local/lib/python3.10/dist-packages (from requests->pymystem3) (2023.7.22)\n"
          ]
        }
      ]
    },
    {
      "cell_type": "code",
      "source": [
        "#Необходимые библиотеки\n",
        "from corus import load_lenta2\n",
        "import nltk\n",
        "from nltk.tokenize import sent_tokenize,word_tokenize\n",
        "from nltk.corpus import stopwords\n",
        "from nltk.stem import WordNetLemmatizer\n",
        "import string\n",
        "from pymystem3 import Mystem\n"
      ],
      "metadata": {
        "id": "pVl73DrpTqt_"
      },
      "execution_count": 44,
      "outputs": []
    },
    {
      "cell_type": "code",
      "source": [
        "#Скачивание всего необходимого\n",
        "!wget https://github.com/yutkin/Lenta.Ru-News-Dataset/releases/download/v1.1/lenta-ru-news.csv.bz2\n",
        "nltk.download('stopwords')\n",
        "nltk.download('punkt')\n",
        "nltk.download('wordnet')"
      ],
      "metadata": {
        "id": "4Dv_uZVOWhrB"
      },
      "execution_count": null,
      "outputs": []
    },
    {
      "cell_type": "code",
      "source": [
        "path = 'lenta-ru-news.csv.bz2'\n",
        "records = load_lenta2(path)\n",
        "next(records)"
      ],
      "metadata": {
        "colab": {
          "base_uri": "https://localhost:8080/"
        },
        "id": "kV80brF0muJk",
        "outputId": "f993d532-48c9-41c2-b2d7-2bbdc40263c7"
      },
      "execution_count": 3,
      "outputs": [
        {
          "output_type": "execute_result",
          "data": {
            "text/plain": [
              "LentaRecord(\n",
              "    url='https://lenta.ru/news/1914/09/16/hungarnn/',\n",
              "    title='1914. Русские войска вступили в\\xa0пределы Венгрии  ',\n",
              "    text='Бои у Сопоцкина и Друскеник закончились отступлением германцев. Неприятель, приблизившись с севера к Осовцу начал артиллерийскую борьбу с крепостью. В артиллерийском бою принимают участие тяжелые калибры. С раннего утра 14 сентября огонь достиг значительного напряжения. Попытка германской пехоты пробиться ближе к крепости отражена. В Галиции мы заняли Дембицу. Большая колонна, отступавшая по шоссе от Перемышля к Саноку, обстреливалась с высот нашей батареей и бежала, бросив парки, обоз и автомобили. Вылазки гарнизона Перемышля остаются безуспешными. При продолжающемся отступлении австрийцев обнаруживается полное перемешивание их частей, захватываются новые партии пленных, орудия и прочая материальная часть. На перевале Ужок мы разбили неприятельский отряд, взяли его артиллерию и много пленных и, продолжая преследовать, вступили в пределы Венгрии. «Русский инвалид», 16 сентября 1914 года.',\n",
              "    topic='Библиотека',\n",
              "    tags='Первая мировая',\n",
              "    date=datetime.datetime(1914, 9, 16, 0, 0)\n",
              ")"
            ]
          },
          "metadata": {},
          "execution_count": 3
        }
      ]
    },
    {
      "cell_type": "code",
      "source": [
        "dataset = [next(records).text for i in range(1000)]\n",
        "dataset[0]\n"
      ],
      "metadata": {
        "colab": {
          "base_uri": "https://localhost:8080/",
          "height": 209
        },
        "id": "O_DLO5nbn4zk",
        "outputId": "e92e220e-5f6b-4ea3-e5b4-bddaac3f3700"
      },
      "execution_count": 22,
      "outputs": [
        {
          "output_type": "execute_result",
          "data": {
            "text/plain": [
              "'В среду Верховный суд России оставил в силе решение Центризбиркома об отказе бывшему мэру Владивостока Виктору Черепкову в регистрации в федеральном списке \"Блока генерала Андрея Николаева, академика Святослава Федорова\", отклонив соответствующую жалобу заявителей. Решение может быть обжаловано в кассационной коллегии Верховного суда в течение 10 дней, передает РИА \"Новости\". ЦИК исключил Черепкова из федерального списка 2 ноября на основании того, что экс-мэр Владивостока предоставил неверные сведения об имуществе - не указал зарегистрированные на его имя в ГИБДД два автомобиля \"Nissan\". Представитель блока в суде Александр Мурашкин заявил, что эти автомобили ни юридически, ни фактически не принадлежат Черепкову. Дело в том, что они арестованы судебным приставом во исполнение решений суда по ряду гражданских исков с целью удовлетворения материальных требований истцов. Так что, по словам Мурашкина, Черепков является лишь \"хранителем описанного имущества\". Машины были арестованы 14 сентября прошлого года. По закону об исполнительном производстве, арестованное имущество должно быть реализовано в течение двух месяцев, однако пристав до сих пор не продал автомобили. Мурашкин сообщил, что 3 ноября судебный исполнитель произвел обеспечительный арест денежных средств на избирательном счете Черепкова. В ответ представители ЦИК отметили, что Черепков почему-то указал в списке имущества автомашину ГАЗ-24, которая, по данным Мурашкина, также арестована судебным приставом. Они подчеркнули, что, вынося решение по исключению Черепкова из списка, ЦИК руководствовался положениями закона о выборах. Все 14 членов комиссии сочли допущенное экс-мэром нарушение \"существенным\". По их словам, по аналогичным \"ошибкам\" ряда других кандидатов в депутаты Госдумы ЦИК принимал такое же решение. Присутствовавшая на процессе прокурор признала решение ЦИК обоснованным и призвала судью отклонить жалобу заявителей.'"
            ],
            "application/vnd.google.colaboratory.intrinsic+json": {
              "type": "string"
            }
          },
          "metadata": {},
          "execution_count": 22
        }
      ]
    },
    {
      "cell_type": "code",
      "source": [
        "# Разбиение на предложения\n",
        "sentences=[]\n",
        "for data in dataset:\n",
        "  sentence = sent_tokenize(data)\n",
        "  sentences.extend(sentence)\n",
        "print(sentences[0:5])"
      ],
      "metadata": {
        "colab": {
          "base_uri": "https://localhost:8080/"
        },
        "id": "L8KXMI2TldEy",
        "outputId": "e13f5bac-8f9c-4c79-f7c3-8b667e94ada4"
      },
      "execution_count": 38,
      "outputs": [
        {
          "output_type": "stream",
          "name": "stdout",
          "text": [
            "['В среду Верховный суд России оставил в силе решение Центризбиркома об отказе бывшему мэру Владивостока Виктору Черепкову в регистрации в федеральном списке \"Блока генерала Андрея Николаева, академика Святослава Федорова\", отклонив соответствующую жалобу заявителей.', 'Решение может быть обжаловано в кассационной коллегии Верховного суда в течение 10 дней, передает РИА \"Новости\".', 'ЦИК исключил Черепкова из федерального списка 2 ноября на основании того, что экс-мэр Владивостока предоставил неверные сведения об имуществе - не указал зарегистрированные на его имя в ГИБДД два автомобиля \"Nissan\".', 'Представитель блока в суде Александр Мурашкин заявил, что эти автомобили ни юридически, ни фактически не принадлежат Черепкову.', 'Дело в том, что они арестованы судебным приставом во исполнение решений суда по ряду гражданских исков с целью удовлетворения материальных требований истцов.']\n"
          ]
        }
      ]
    },
    {
      "cell_type": "code",
      "source": [
        "#Разбиение на слова\n",
        "tokens = []\n",
        "for sentence in sentences:\n",
        "    token = word_tokenize(sentence)\n",
        "    tokens.extend(token)\n",
        "print(tokens[0:200])"
      ],
      "metadata": {
        "colab": {
          "base_uri": "https://localhost:8080/"
        },
        "id": "OyC7QjhAlwKx",
        "outputId": "166ca519-810f-407c-a1b9-26532f1d4450"
      },
      "execution_count": 40,
      "outputs": [
        {
          "output_type": "stream",
          "name": "stdout",
          "text": [
            "['В', 'среду', 'Верховный', 'суд', 'России', 'оставил', 'в', 'силе', 'решение', 'Центризбиркома', 'об', 'отказе', 'бывшему', 'мэру', 'Владивостока', 'Виктору', 'Черепкову', 'в', 'регистрации', 'в', 'федеральном', 'списке', '``', 'Блока', 'генерала', 'Андрея', 'Николаева', ',', 'академика', 'Святослава', 'Федорова', \"''\", ',', 'отклонив', 'соответствующую', 'жалобу', 'заявителей', '.', 'Решение', 'может', 'быть', 'обжаловано', 'в', 'кассационной', 'коллегии', 'Верховного', 'суда', 'в', 'течение', '10', 'дней', ',', 'передает', 'РИА', '``', 'Новости', \"''\", '.', 'ЦИК', 'исключил', 'Черепкова', 'из', 'федерального', 'списка', '2', 'ноября', 'на', 'основании', 'того', ',', 'что', 'экс-мэр', 'Владивостока', 'предоставил', 'неверные', 'сведения', 'об', 'имуществе', '-', 'не', 'указал', 'зарегистрированные', 'на', 'его', 'имя', 'в', 'ГИБДД', 'два', 'автомобиля', '``', 'Nissan', \"''\", '.', 'Представитель', 'блока', 'в', 'суде', 'Александр', 'Мурашкин', 'заявил', ',', 'что', 'эти', 'автомобили', 'ни', 'юридически', ',', 'ни', 'фактически', 'не', 'принадлежат', 'Черепкову', '.', 'Дело', 'в', 'том', ',', 'что', 'они', 'арестованы', 'судебным', 'приставом', 'во', 'исполнение', 'решений', 'суда', 'по', 'ряду', 'гражданских', 'исков', 'с', 'целью', 'удовлетворения', 'материальных', 'требований', 'истцов', '.', 'Так', 'что', ',', 'по', 'словам', 'Мурашкина', ',', 'Черепков', 'является', 'лишь', '``', 'хранителем', 'описанного', 'имущества', \"''\", '.', 'Машины', 'были', 'арестованы', '14', 'сентября', 'прошлого', 'года', '.', 'По', 'закону', 'об', 'исполнительном', 'производстве', ',', 'арестованное', 'имущество', 'должно', 'быть', 'реализовано', 'в', 'течение', 'двух', 'месяцев', ',', 'однако', 'пристав', 'до', 'сих', 'пор', 'не', 'продал', 'автомобили', '.', 'Мурашкин', 'сообщил', ',', 'что', '3', 'ноября', 'судебный', 'исполнитель', 'произвел', 'обеспечительный', 'арест', 'денежных', 'средств', 'на']\n"
          ]
        }
      ]
    },
    {
      "cell_type": "code",
      "source": [
        "#Удаление стоп-слов и знаков пунктуации\n",
        "stop_words = set(stopwords.words('russian'))\n",
        "no_stops = []\n",
        "for token in tokens:\n",
        "    # переводим все слова в нижний регистр\n",
        "    token = token.lower()\n",
        "    # если токен не в списке стоп-слов и не является знаком пунктуации\n",
        "    if token not in stop_words and token.isalpha():\n",
        "        no_stops.append(token)\n",
        "\n",
        "print(no_stops[0:20])\n",
        "\n",
        "data=' '.join(no_stops)"
      ],
      "metadata": {
        "colab": {
          "base_uri": "https://localhost:8080/"
        },
        "id": "kq08hR_wnAoc",
        "outputId": "b86aa19b-18a4-4e09-dd8a-7b7fbbdf78bb"
      },
      "execution_count": 49,
      "outputs": [
        {
          "output_type": "stream",
          "name": "stdout",
          "text": [
            "['среду', 'верховный', 'суд', 'россии', 'оставил', 'силе', 'решение', 'центризбиркома', 'отказе', 'бывшему', 'мэру', 'владивостока', 'виктору', 'черепкову', 'регистрации', 'федеральном', 'списке', 'блока', 'генерала', 'андрея']\n"
          ]
        }
      ]
    },
    {
      "cell_type": "code",
      "source": [
        "m = Mystem()\n",
        "lemmas = m.lemmatize(data)\n",
        "lemmas[0:20]"
      ],
      "metadata": {
        "colab": {
          "base_uri": "https://localhost:8080/"
        },
        "id": "ieJKBrq-qcuJ",
        "outputId": "2c64b581-6e85-47ac-958a-d4adcfb6d852"
      },
      "execution_count": 50,
      "outputs": [
        {
          "output_type": "execute_result",
          "data": {
            "text/plain": [
              "['среда',\n",
              " ' ',\n",
              " 'верховный',\n",
              " ' ',\n",
              " 'суд',\n",
              " ' ',\n",
              " 'россия',\n",
              " ' ',\n",
              " 'оставлять',\n",
              " ' ',\n",
              " 'сила',\n",
              " ' ',\n",
              " 'решение',\n",
              " ' ',\n",
              " 'центризбирком',\n",
              " ' ',\n",
              " 'отказ',\n",
              " ' ',\n",
              " 'бывший',\n",
              " ' ']"
            ]
          },
          "metadata": {},
          "execution_count": 50
        }
      ]
    },
    {
      "cell_type": "code",
      "source": [
        "withoutspace =[]\n",
        "for lemma in lemmas:\n",
        "    # если токен не в списке стоп-слов и не является знаком пунктуации\n",
        "    if lemma not in '  ':\n",
        "        withoutspace.append(lemma)\n",
        "\n",
        "print(withoutspace[0:20])"
      ],
      "metadata": {
        "colab": {
          "base_uri": "https://localhost:8080/"
        },
        "id": "xX4mKlO2oVd3",
        "outputId": "52bfc26e-31ae-47a9-f227-721fb6b3a2a9"
      },
      "execution_count": 52,
      "outputs": [
        {
          "output_type": "stream",
          "name": "stdout",
          "text": [
            "['среда', 'верховный', 'суд', 'россия', 'оставлять', 'сила', 'решение', 'центризбирком', 'отказ', 'бывший', 'мэр', 'владивосток', 'виктор', 'черепков', 'регистрация', 'федеральный', 'список', 'блок', 'генерал', 'андрей']\n"
          ]
        }
      ]
    }
  ]
}