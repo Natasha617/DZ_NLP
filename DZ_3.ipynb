{
  "nbformat": 4,
  "nbformat_minor": 0,
  "metadata": {
    "colab": {
      "provenance": [],
      "authorship_tag": "ABX9TyN8fSWddiXQftlJmzD/UeQd",
      "include_colab_link": true
    },
    "kernelspec": {
      "name": "python3",
      "display_name": "Python 3"
    },
    "language_info": {
      "name": "python"
    }
  },
  "cells": [
    {
      "cell_type": "markdown",
      "metadata": {
        "id": "view-in-github",
        "colab_type": "text"
      },
      "source": [
        "<a href=\"https://colab.research.google.com/github/Natasha617/DZ_NLP/blob/DZ_3/DZ_3.ipynb\" target=\"_parent\"><img src=\"https://colab.research.google.com/assets/colab-badge.svg\" alt=\"Open In Colab\"/></a>"
      ]
    },
    {
      "cell_type": "markdown",
      "source": [
        "# **Домашняя работа №3 Шафорост Н.В.**"
      ],
      "metadata": {
        "id": "6z4KdyyElvNe"
      }
    },
    {
      "cell_type": "code",
      "execution_count": 1,
      "metadata": {
        "colab": {
          "base_uri": "https://localhost:8080/"
        },
        "id": "D0xy36Cai_k8",
        "outputId": "6065ac6b-9832-472e-bdea-254ee37dac86"
      },
      "outputs": [
        {
          "output_type": "stream",
          "name": "stdout",
          "text": [
            "Mounted at /content/drive\n"
          ]
        }
      ],
      "source": [
        "from google.colab import drive\n",
        "drive.mount('/content/drive')"
      ]
    },
    {
      "cell_type": "code",
      "source": [
        "!cp \"/content/drive/MyDrive/магистратура/NLP/train.csv\" /content/data.csv"
      ],
      "metadata": {
        "id": "PkRsD1w2k_-c"
      },
      "execution_count": 2,
      "outputs": []
    },
    {
      "cell_type": "code",
      "source": [
        "!pip install fasttext"
      ],
      "metadata": {
        "id": "5i4gMK4KJCwc"
      },
      "execution_count": null,
      "outputs": []
    },
    {
      "cell_type": "code",
      "source": [
        "import numpy as np\n",
        "from sklearn.manifold import TSNE\n",
        "import pandas as pd\n",
        "import re\n",
        "import nltk\n",
        "import gensim\n",
        "import fasttext\n",
        "from nltk.tokenize import word_tokenize,sent_tokenize\n",
        "from nltk.corpus import stopwords\n",
        "from nltk.stem import WordNetLemmatizer\n",
        "from sklearn.feature_extraction.text import CountVectorizer\n",
        "from sklearn.model_selection import train_test_split\n",
        "from sklearn.model_selection import GridSearchCV\n",
        "from sklearn.linear_model import LogisticRegression\n",
        "from sklearn.metrics import f1_score\n",
        "import plotly.express as px\n",
        "from sklearn.metrics import classification_report"
      ],
      "metadata": {
        "id": "yfUaqnxWlLxM"
      },
      "execution_count": 97,
      "outputs": []
    },
    {
      "cell_type": "code",
      "source": [
        "nltk.download('stopwords')\n",
        "nltk.download('punkt')\n",
        "nltk.download('wordnet')"
      ],
      "metadata": {
        "id": "H09zLUXwTsH_",
        "colab": {
          "base_uri": "https://localhost:8080/"
        },
        "outputId": "dd2d2835-d368-4a4a-a8bb-da5aeb365973"
      },
      "execution_count": 50,
      "outputs": [
        {
          "output_type": "stream",
          "name": "stderr",
          "text": [
            "[nltk_data] Downloading package stopwords to /root/nltk_data...\n",
            "[nltk_data]   Package stopwords is already up-to-date!\n",
            "[nltk_data] Downloading package punkt to /root/nltk_data...\n",
            "[nltk_data]   Package punkt is already up-to-date!\n",
            "[nltk_data] Downloading package wordnet to /root/nltk_data...\n",
            "[nltk_data]   Package wordnet is already up-to-date!\n"
          ]
        }
      ]
    },
    {
      "cell_type": "code",
      "source": [
        "data = pd.read_csv(\"data.csv\", encoding='utf-8')\n",
        "data"
      ],
      "metadata": {
        "colab": {
          "base_uri": "https://localhost:8080/",
          "height": 423
        },
        "id": "IBYbb0Fl7MOh",
        "outputId": "a15ae2f0-1646-409f-f0b5-413377263b64"
      },
      "execution_count": 57,
      "outputs": [
        {
          "output_type": "execute_result",
          "data": {
            "text/plain": [
              "                                                    sms  label\n",
              "0     Go until jurong point, crazy.. Available only ...      0\n",
              "1                       Ok lar... Joking wif u oni...\\n      0\n",
              "2     Free entry in 2 a wkly comp to win FA Cup fina...      1\n",
              "3     U dun say so early hor... U c already then say...      0\n",
              "4     Nah I don't think he goes to usf, he lives aro...      0\n",
              "...                                                 ...    ...\n",
              "5569  This is the 2nd time we have tried 2 contact u...      1\n",
              "5570             Will ü b going to esplanade fr home?\\n      0\n",
              "5571  Pity, * was in mood for that. So...any other s...      0\n",
              "5572  The guy did some bitching but I acted like i'd...      0\n",
              "5573                       Rofl. Its true to its name\\n      0\n",
              "\n",
              "[5574 rows x 2 columns]"
            ],
            "text/html": [
              "\n",
              "  <div id=\"df-de7acee8-c619-4ff9-b7eb-9ca22748bab9\" class=\"colab-df-container\">\n",
              "    <div>\n",
              "<style scoped>\n",
              "    .dataframe tbody tr th:only-of-type {\n",
              "        vertical-align: middle;\n",
              "    }\n",
              "\n",
              "    .dataframe tbody tr th {\n",
              "        vertical-align: top;\n",
              "    }\n",
              "\n",
              "    .dataframe thead th {\n",
              "        text-align: right;\n",
              "    }\n",
              "</style>\n",
              "<table border=\"1\" class=\"dataframe\">\n",
              "  <thead>\n",
              "    <tr style=\"text-align: right;\">\n",
              "      <th></th>\n",
              "      <th>sms</th>\n",
              "      <th>label</th>\n",
              "    </tr>\n",
              "  </thead>\n",
              "  <tbody>\n",
              "    <tr>\n",
              "      <th>0</th>\n",
              "      <td>Go until jurong point, crazy.. Available only ...</td>\n",
              "      <td>0</td>\n",
              "    </tr>\n",
              "    <tr>\n",
              "      <th>1</th>\n",
              "      <td>Ok lar... Joking wif u oni...\\n</td>\n",
              "      <td>0</td>\n",
              "    </tr>\n",
              "    <tr>\n",
              "      <th>2</th>\n",
              "      <td>Free entry in 2 a wkly comp to win FA Cup fina...</td>\n",
              "      <td>1</td>\n",
              "    </tr>\n",
              "    <tr>\n",
              "      <th>3</th>\n",
              "      <td>U dun say so early hor... U c already then say...</td>\n",
              "      <td>0</td>\n",
              "    </tr>\n",
              "    <tr>\n",
              "      <th>4</th>\n",
              "      <td>Nah I don't think he goes to usf, he lives aro...</td>\n",
              "      <td>0</td>\n",
              "    </tr>\n",
              "    <tr>\n",
              "      <th>...</th>\n",
              "      <td>...</td>\n",
              "      <td>...</td>\n",
              "    </tr>\n",
              "    <tr>\n",
              "      <th>5569</th>\n",
              "      <td>This is the 2nd time we have tried 2 contact u...</td>\n",
              "      <td>1</td>\n",
              "    </tr>\n",
              "    <tr>\n",
              "      <th>5570</th>\n",
              "      <td>Will ü b going to esplanade fr home?\\n</td>\n",
              "      <td>0</td>\n",
              "    </tr>\n",
              "    <tr>\n",
              "      <th>5571</th>\n",
              "      <td>Pity, * was in mood for that. So...any other s...</td>\n",
              "      <td>0</td>\n",
              "    </tr>\n",
              "    <tr>\n",
              "      <th>5572</th>\n",
              "      <td>The guy did some bitching but I acted like i'd...</td>\n",
              "      <td>0</td>\n",
              "    </tr>\n",
              "    <tr>\n",
              "      <th>5573</th>\n",
              "      <td>Rofl. Its true to its name\\n</td>\n",
              "      <td>0</td>\n",
              "    </tr>\n",
              "  </tbody>\n",
              "</table>\n",
              "<p>5574 rows × 2 columns</p>\n",
              "</div>\n",
              "    <div class=\"colab-df-buttons\">\n",
              "\n",
              "  <div class=\"colab-df-container\">\n",
              "    <button class=\"colab-df-convert\" onclick=\"convertToInteractive('df-de7acee8-c619-4ff9-b7eb-9ca22748bab9')\"\n",
              "            title=\"Convert this dataframe to an interactive table.\"\n",
              "            style=\"display:none;\">\n",
              "\n",
              "  <svg xmlns=\"http://www.w3.org/2000/svg\" height=\"24px\" viewBox=\"0 -960 960 960\">\n",
              "    <path d=\"M120-120v-720h720v720H120Zm60-500h600v-160H180v160Zm220 220h160v-160H400v160Zm0 220h160v-160H400v160ZM180-400h160v-160H180v160Zm440 0h160v-160H620v160ZM180-180h160v-160H180v160Zm440 0h160v-160H620v160Z\"/>\n",
              "  </svg>\n",
              "    </button>\n",
              "\n",
              "  <style>\n",
              "    .colab-df-container {\n",
              "      display:flex;\n",
              "      gap: 12px;\n",
              "    }\n",
              "\n",
              "    .colab-df-convert {\n",
              "      background-color: #E8F0FE;\n",
              "      border: none;\n",
              "      border-radius: 50%;\n",
              "      cursor: pointer;\n",
              "      display: none;\n",
              "      fill: #1967D2;\n",
              "      height: 32px;\n",
              "      padding: 0 0 0 0;\n",
              "      width: 32px;\n",
              "    }\n",
              "\n",
              "    .colab-df-convert:hover {\n",
              "      background-color: #E2EBFA;\n",
              "      box-shadow: 0px 1px 2px rgba(60, 64, 67, 0.3), 0px 1px 3px 1px rgba(60, 64, 67, 0.15);\n",
              "      fill: #174EA6;\n",
              "    }\n",
              "\n",
              "    .colab-df-buttons div {\n",
              "      margin-bottom: 4px;\n",
              "    }\n",
              "\n",
              "    [theme=dark] .colab-df-convert {\n",
              "      background-color: #3B4455;\n",
              "      fill: #D2E3FC;\n",
              "    }\n",
              "\n",
              "    [theme=dark] .colab-df-convert:hover {\n",
              "      background-color: #434B5C;\n",
              "      box-shadow: 0px 1px 3px 1px rgba(0, 0, 0, 0.15);\n",
              "      filter: drop-shadow(0px 1px 2px rgba(0, 0, 0, 0.3));\n",
              "      fill: #FFFFFF;\n",
              "    }\n",
              "  </style>\n",
              "\n",
              "    <script>\n",
              "      const buttonEl =\n",
              "        document.querySelector('#df-de7acee8-c619-4ff9-b7eb-9ca22748bab9 button.colab-df-convert');\n",
              "      buttonEl.style.display =\n",
              "        google.colab.kernel.accessAllowed ? 'block' : 'none';\n",
              "\n",
              "      async function convertToInteractive(key) {\n",
              "        const element = document.querySelector('#df-de7acee8-c619-4ff9-b7eb-9ca22748bab9');\n",
              "        const dataTable =\n",
              "          await google.colab.kernel.invokeFunction('convertToInteractive',\n",
              "                                                    [key], {});\n",
              "        if (!dataTable) return;\n",
              "\n",
              "        const docLinkHtml = 'Like what you see? Visit the ' +\n",
              "          '<a target=\"_blank\" href=https://colab.research.google.com/notebooks/data_table.ipynb>data table notebook</a>'\n",
              "          + ' to learn more about interactive tables.';\n",
              "        element.innerHTML = '';\n",
              "        dataTable['output_type'] = 'display_data';\n",
              "        await google.colab.output.renderOutput(dataTable, element);\n",
              "        const docLink = document.createElement('div');\n",
              "        docLink.innerHTML = docLinkHtml;\n",
              "        element.appendChild(docLink);\n",
              "      }\n",
              "    </script>\n",
              "  </div>\n",
              "\n",
              "\n",
              "<div id=\"df-5383db85-f2ec-4b9a-a907-b8ee1830ad4e\">\n",
              "  <button class=\"colab-df-quickchart\" onclick=\"quickchart('df-5383db85-f2ec-4b9a-a907-b8ee1830ad4e')\"\n",
              "            title=\"Suggest charts.\"\n",
              "            style=\"display:none;\">\n",
              "\n",
              "<svg xmlns=\"http://www.w3.org/2000/svg\" height=\"24px\"viewBox=\"0 0 24 24\"\n",
              "     width=\"24px\">\n",
              "    <g>\n",
              "        <path d=\"M19 3H5c-1.1 0-2 .9-2 2v14c0 1.1.9 2 2 2h14c1.1 0 2-.9 2-2V5c0-1.1-.9-2-2-2zM9 17H7v-7h2v7zm4 0h-2V7h2v10zm4 0h-2v-4h2v4z\"/>\n",
              "    </g>\n",
              "</svg>\n",
              "  </button>\n",
              "\n",
              "<style>\n",
              "  .colab-df-quickchart {\n",
              "      --bg-color: #E8F0FE;\n",
              "      --fill-color: #1967D2;\n",
              "      --hover-bg-color: #E2EBFA;\n",
              "      --hover-fill-color: #174EA6;\n",
              "      --disabled-fill-color: #AAA;\n",
              "      --disabled-bg-color: #DDD;\n",
              "  }\n",
              "\n",
              "  [theme=dark] .colab-df-quickchart {\n",
              "      --bg-color: #3B4455;\n",
              "      --fill-color: #D2E3FC;\n",
              "      --hover-bg-color: #434B5C;\n",
              "      --hover-fill-color: #FFFFFF;\n",
              "      --disabled-bg-color: #3B4455;\n",
              "      --disabled-fill-color: #666;\n",
              "  }\n",
              "\n",
              "  .colab-df-quickchart {\n",
              "    background-color: var(--bg-color);\n",
              "    border: none;\n",
              "    border-radius: 50%;\n",
              "    cursor: pointer;\n",
              "    display: none;\n",
              "    fill: var(--fill-color);\n",
              "    height: 32px;\n",
              "    padding: 0;\n",
              "    width: 32px;\n",
              "  }\n",
              "\n",
              "  .colab-df-quickchart:hover {\n",
              "    background-color: var(--hover-bg-color);\n",
              "    box-shadow: 0 1px 2px rgba(60, 64, 67, 0.3), 0 1px 3px 1px rgba(60, 64, 67, 0.15);\n",
              "    fill: var(--button-hover-fill-color);\n",
              "  }\n",
              "\n",
              "  .colab-df-quickchart-complete:disabled,\n",
              "  .colab-df-quickchart-complete:disabled:hover {\n",
              "    background-color: var(--disabled-bg-color);\n",
              "    fill: var(--disabled-fill-color);\n",
              "    box-shadow: none;\n",
              "  }\n",
              "\n",
              "  .colab-df-spinner {\n",
              "    border: 2px solid var(--fill-color);\n",
              "    border-color: transparent;\n",
              "    border-bottom-color: var(--fill-color);\n",
              "    animation:\n",
              "      spin 1s steps(1) infinite;\n",
              "  }\n",
              "\n",
              "  @keyframes spin {\n",
              "    0% {\n",
              "      border-color: transparent;\n",
              "      border-bottom-color: var(--fill-color);\n",
              "      border-left-color: var(--fill-color);\n",
              "    }\n",
              "    20% {\n",
              "      border-color: transparent;\n",
              "      border-left-color: var(--fill-color);\n",
              "      border-top-color: var(--fill-color);\n",
              "    }\n",
              "    30% {\n",
              "      border-color: transparent;\n",
              "      border-left-color: var(--fill-color);\n",
              "      border-top-color: var(--fill-color);\n",
              "      border-right-color: var(--fill-color);\n",
              "    }\n",
              "    40% {\n",
              "      border-color: transparent;\n",
              "      border-right-color: var(--fill-color);\n",
              "      border-top-color: var(--fill-color);\n",
              "    }\n",
              "    60% {\n",
              "      border-color: transparent;\n",
              "      border-right-color: var(--fill-color);\n",
              "    }\n",
              "    80% {\n",
              "      border-color: transparent;\n",
              "      border-right-color: var(--fill-color);\n",
              "      border-bottom-color: var(--fill-color);\n",
              "    }\n",
              "    90% {\n",
              "      border-color: transparent;\n",
              "      border-bottom-color: var(--fill-color);\n",
              "    }\n",
              "  }\n",
              "</style>\n",
              "\n",
              "  <script>\n",
              "    async function quickchart(key) {\n",
              "      const quickchartButtonEl =\n",
              "        document.querySelector('#' + key + ' button');\n",
              "      quickchartButtonEl.disabled = true;  // To prevent multiple clicks.\n",
              "      quickchartButtonEl.classList.add('colab-df-spinner');\n",
              "      try {\n",
              "        const charts = await google.colab.kernel.invokeFunction(\n",
              "            'suggestCharts', [key], {});\n",
              "      } catch (error) {\n",
              "        console.error('Error during call to suggestCharts:', error);\n",
              "      }\n",
              "      quickchartButtonEl.classList.remove('colab-df-spinner');\n",
              "      quickchartButtonEl.classList.add('colab-df-quickchart-complete');\n",
              "    }\n",
              "    (() => {\n",
              "      let quickchartButtonEl =\n",
              "        document.querySelector('#df-5383db85-f2ec-4b9a-a907-b8ee1830ad4e button');\n",
              "      quickchartButtonEl.style.display =\n",
              "        google.colab.kernel.accessAllowed ? 'block' : 'none';\n",
              "    })();\n",
              "  </script>\n",
              "</div>\n",
              "    </div>\n",
              "  </div>\n"
            ]
          },
          "metadata": {},
          "execution_count": 57
        }
      ]
    },
    {
      "cell_type": "markdown",
      "source": [
        "# Очистка данных"
      ],
      "metadata": {
        "id": "qseFSZ_OFbuk"
      }
    },
    {
      "cell_type": "code",
      "source": [
        "new_df=[]\n",
        "for d in data['sms']:\n",
        "    new_df.append(d.split(\" \"))\n",
        "\n",
        "new_df\n",
        "#все числа и URL-адреса были преобразованы в строки как NUMBERи URL соответственно\n",
        "no_trash = [] # здесь будут данные без \"URL\" И \"NUMBER\"\n",
        "for li in new_df:\n",
        "    no = []\n",
        "    for word in li:\n",
        "      word = re.sub('[^a-zA-Zа-яА-Я]+', ' ', word)\n",
        "      if word != 'URL' and word != \"NUMBER\":\n",
        "        no.append(word)\n",
        "    no_trash.append(no)\n",
        "\n",
        "unique_stops = set(stopwords.words('english'))\n",
        "\n",
        "# создаём пустой список без стоп-слов\n",
        "no_stops = []\n",
        "for li in no_trash:\n",
        "    no_stop = []\n",
        "    for word in li:\n",
        "      word = word.lower()\n",
        "      if word not in unique_stops and word.isalpha():\n",
        "        no_stop.append(word)\n",
        "    no_stops.append(no_stop)\n",
        "\n",
        "lemmatizer = WordNetLemmatizer()\n",
        "\n",
        "# и пустой список для слов после лемматизации\n",
        "lemmatized = []\n",
        "for li in no_stops:\n",
        "    lemma = []\n",
        "    for word in li:\n",
        "      word = lemmatizer.lemmatize(word)\n",
        "      lemma.append(word)\n",
        "    lemmatized.append(lemma)\n",
        "\n",
        "data['sms'] = lemmatized\n",
        "\n",
        "data"
      ],
      "metadata": {
        "colab": {
          "base_uri": "https://localhost:8080/",
          "height": 423
        },
        "id": "wMlv3iCvCDB5",
        "outputId": "075da775-0692-48fe-a17b-fefa98ef7f86"
      },
      "execution_count": 58,
      "outputs": [
        {
          "output_type": "execute_result",
          "data": {
            "text/plain": [
              "                                                    sms  label\n",
              "0     [go, jurong, available, bugis, n, great, world...      0\n",
              "1                                  [ok, joking, wif, u]      0\n",
              "2     [free, entry, wkly, comp, win, fa, cup, final,...      1\n",
              "3                   [u, dun, say, early, u, c, already]      0\n",
              "4                        [nah, think, go, life, around]      0\n",
              "...                                                 ...    ...\n",
              "5569  [time, tried, contact, u, pound, claim, call, ...      1\n",
              "5570                          [b, going, esplanade, fr]      0\n",
              "5571                                             [mood]      0\n",
              "5572  [guy, bitching, acted, like, interested, buyin...      0\n",
              "5573                                             [true]      0\n",
              "\n",
              "[5574 rows x 2 columns]"
            ],
            "text/html": [
              "\n",
              "  <div id=\"df-f8e97cde-231a-40b2-9248-cb1d378aa524\" class=\"colab-df-container\">\n",
              "    <div>\n",
              "<style scoped>\n",
              "    .dataframe tbody tr th:only-of-type {\n",
              "        vertical-align: middle;\n",
              "    }\n",
              "\n",
              "    .dataframe tbody tr th {\n",
              "        vertical-align: top;\n",
              "    }\n",
              "\n",
              "    .dataframe thead th {\n",
              "        text-align: right;\n",
              "    }\n",
              "</style>\n",
              "<table border=\"1\" class=\"dataframe\">\n",
              "  <thead>\n",
              "    <tr style=\"text-align: right;\">\n",
              "      <th></th>\n",
              "      <th>sms</th>\n",
              "      <th>label</th>\n",
              "    </tr>\n",
              "  </thead>\n",
              "  <tbody>\n",
              "    <tr>\n",
              "      <th>0</th>\n",
              "      <td>[go, jurong, available, bugis, n, great, world...</td>\n",
              "      <td>0</td>\n",
              "    </tr>\n",
              "    <tr>\n",
              "      <th>1</th>\n",
              "      <td>[ok, joking, wif, u]</td>\n",
              "      <td>0</td>\n",
              "    </tr>\n",
              "    <tr>\n",
              "      <th>2</th>\n",
              "      <td>[free, entry, wkly, comp, win, fa, cup, final,...</td>\n",
              "      <td>1</td>\n",
              "    </tr>\n",
              "    <tr>\n",
              "      <th>3</th>\n",
              "      <td>[u, dun, say, early, u, c, already]</td>\n",
              "      <td>0</td>\n",
              "    </tr>\n",
              "    <tr>\n",
              "      <th>4</th>\n",
              "      <td>[nah, think, go, life, around]</td>\n",
              "      <td>0</td>\n",
              "    </tr>\n",
              "    <tr>\n",
              "      <th>...</th>\n",
              "      <td>...</td>\n",
              "      <td>...</td>\n",
              "    </tr>\n",
              "    <tr>\n",
              "      <th>5569</th>\n",
              "      <td>[time, tried, contact, u, pound, claim, call, ...</td>\n",
              "      <td>1</td>\n",
              "    </tr>\n",
              "    <tr>\n",
              "      <th>5570</th>\n",
              "      <td>[b, going, esplanade, fr]</td>\n",
              "      <td>0</td>\n",
              "    </tr>\n",
              "    <tr>\n",
              "      <th>5571</th>\n",
              "      <td>[mood]</td>\n",
              "      <td>0</td>\n",
              "    </tr>\n",
              "    <tr>\n",
              "      <th>5572</th>\n",
              "      <td>[guy, bitching, acted, like, interested, buyin...</td>\n",
              "      <td>0</td>\n",
              "    </tr>\n",
              "    <tr>\n",
              "      <th>5573</th>\n",
              "      <td>[true]</td>\n",
              "      <td>0</td>\n",
              "    </tr>\n",
              "  </tbody>\n",
              "</table>\n",
              "<p>5574 rows × 2 columns</p>\n",
              "</div>\n",
              "    <div class=\"colab-df-buttons\">\n",
              "\n",
              "  <div class=\"colab-df-container\">\n",
              "    <button class=\"colab-df-convert\" onclick=\"convertToInteractive('df-f8e97cde-231a-40b2-9248-cb1d378aa524')\"\n",
              "            title=\"Convert this dataframe to an interactive table.\"\n",
              "            style=\"display:none;\">\n",
              "\n",
              "  <svg xmlns=\"http://www.w3.org/2000/svg\" height=\"24px\" viewBox=\"0 -960 960 960\">\n",
              "    <path d=\"M120-120v-720h720v720H120Zm60-500h600v-160H180v160Zm220 220h160v-160H400v160Zm0 220h160v-160H400v160ZM180-400h160v-160H180v160Zm440 0h160v-160H620v160ZM180-180h160v-160H180v160Zm440 0h160v-160H620v160Z\"/>\n",
              "  </svg>\n",
              "    </button>\n",
              "\n",
              "  <style>\n",
              "    .colab-df-container {\n",
              "      display:flex;\n",
              "      gap: 12px;\n",
              "    }\n",
              "\n",
              "    .colab-df-convert {\n",
              "      background-color: #E8F0FE;\n",
              "      border: none;\n",
              "      border-radius: 50%;\n",
              "      cursor: pointer;\n",
              "      display: none;\n",
              "      fill: #1967D2;\n",
              "      height: 32px;\n",
              "      padding: 0 0 0 0;\n",
              "      width: 32px;\n",
              "    }\n",
              "\n",
              "    .colab-df-convert:hover {\n",
              "      background-color: #E2EBFA;\n",
              "      box-shadow: 0px 1px 2px rgba(60, 64, 67, 0.3), 0px 1px 3px 1px rgba(60, 64, 67, 0.15);\n",
              "      fill: #174EA6;\n",
              "    }\n",
              "\n",
              "    .colab-df-buttons div {\n",
              "      margin-bottom: 4px;\n",
              "    }\n",
              "\n",
              "    [theme=dark] .colab-df-convert {\n",
              "      background-color: #3B4455;\n",
              "      fill: #D2E3FC;\n",
              "    }\n",
              "\n",
              "    [theme=dark] .colab-df-convert:hover {\n",
              "      background-color: #434B5C;\n",
              "      box-shadow: 0px 1px 3px 1px rgba(0, 0, 0, 0.15);\n",
              "      filter: drop-shadow(0px 1px 2px rgba(0, 0, 0, 0.3));\n",
              "      fill: #FFFFFF;\n",
              "    }\n",
              "  </style>\n",
              "\n",
              "    <script>\n",
              "      const buttonEl =\n",
              "        document.querySelector('#df-f8e97cde-231a-40b2-9248-cb1d378aa524 button.colab-df-convert');\n",
              "      buttonEl.style.display =\n",
              "        google.colab.kernel.accessAllowed ? 'block' : 'none';\n",
              "\n",
              "      async function convertToInteractive(key) {\n",
              "        const element = document.querySelector('#df-f8e97cde-231a-40b2-9248-cb1d378aa524');\n",
              "        const dataTable =\n",
              "          await google.colab.kernel.invokeFunction('convertToInteractive',\n",
              "                                                    [key], {});\n",
              "        if (!dataTable) return;\n",
              "\n",
              "        const docLinkHtml = 'Like what you see? Visit the ' +\n",
              "          '<a target=\"_blank\" href=https://colab.research.google.com/notebooks/data_table.ipynb>data table notebook</a>'\n",
              "          + ' to learn more about interactive tables.';\n",
              "        element.innerHTML = '';\n",
              "        dataTable['output_type'] = 'display_data';\n",
              "        await google.colab.output.renderOutput(dataTable, element);\n",
              "        const docLink = document.createElement('div');\n",
              "        docLink.innerHTML = docLinkHtml;\n",
              "        element.appendChild(docLink);\n",
              "      }\n",
              "    </script>\n",
              "  </div>\n",
              "\n",
              "\n",
              "<div id=\"df-61a5806c-dd8f-4553-83ed-1af219504087\">\n",
              "  <button class=\"colab-df-quickchart\" onclick=\"quickchart('df-61a5806c-dd8f-4553-83ed-1af219504087')\"\n",
              "            title=\"Suggest charts.\"\n",
              "            style=\"display:none;\">\n",
              "\n",
              "<svg xmlns=\"http://www.w3.org/2000/svg\" height=\"24px\"viewBox=\"0 0 24 24\"\n",
              "     width=\"24px\">\n",
              "    <g>\n",
              "        <path d=\"M19 3H5c-1.1 0-2 .9-2 2v14c0 1.1.9 2 2 2h14c1.1 0 2-.9 2-2V5c0-1.1-.9-2-2-2zM9 17H7v-7h2v7zm4 0h-2V7h2v10zm4 0h-2v-4h2v4z\"/>\n",
              "    </g>\n",
              "</svg>\n",
              "  </button>\n",
              "\n",
              "<style>\n",
              "  .colab-df-quickchart {\n",
              "      --bg-color: #E8F0FE;\n",
              "      --fill-color: #1967D2;\n",
              "      --hover-bg-color: #E2EBFA;\n",
              "      --hover-fill-color: #174EA6;\n",
              "      --disabled-fill-color: #AAA;\n",
              "      --disabled-bg-color: #DDD;\n",
              "  }\n",
              "\n",
              "  [theme=dark] .colab-df-quickchart {\n",
              "      --bg-color: #3B4455;\n",
              "      --fill-color: #D2E3FC;\n",
              "      --hover-bg-color: #434B5C;\n",
              "      --hover-fill-color: #FFFFFF;\n",
              "      --disabled-bg-color: #3B4455;\n",
              "      --disabled-fill-color: #666;\n",
              "  }\n",
              "\n",
              "  .colab-df-quickchart {\n",
              "    background-color: var(--bg-color);\n",
              "    border: none;\n",
              "    border-radius: 50%;\n",
              "    cursor: pointer;\n",
              "    display: none;\n",
              "    fill: var(--fill-color);\n",
              "    height: 32px;\n",
              "    padding: 0;\n",
              "    width: 32px;\n",
              "  }\n",
              "\n",
              "  .colab-df-quickchart:hover {\n",
              "    background-color: var(--hover-bg-color);\n",
              "    box-shadow: 0 1px 2px rgba(60, 64, 67, 0.3), 0 1px 3px 1px rgba(60, 64, 67, 0.15);\n",
              "    fill: var(--button-hover-fill-color);\n",
              "  }\n",
              "\n",
              "  .colab-df-quickchart-complete:disabled,\n",
              "  .colab-df-quickchart-complete:disabled:hover {\n",
              "    background-color: var(--disabled-bg-color);\n",
              "    fill: var(--disabled-fill-color);\n",
              "    box-shadow: none;\n",
              "  }\n",
              "\n",
              "  .colab-df-spinner {\n",
              "    border: 2px solid var(--fill-color);\n",
              "    border-color: transparent;\n",
              "    border-bottom-color: var(--fill-color);\n",
              "    animation:\n",
              "      spin 1s steps(1) infinite;\n",
              "  }\n",
              "\n",
              "  @keyframes spin {\n",
              "    0% {\n",
              "      border-color: transparent;\n",
              "      border-bottom-color: var(--fill-color);\n",
              "      border-left-color: var(--fill-color);\n",
              "    }\n",
              "    20% {\n",
              "      border-color: transparent;\n",
              "      border-left-color: var(--fill-color);\n",
              "      border-top-color: var(--fill-color);\n",
              "    }\n",
              "    30% {\n",
              "      border-color: transparent;\n",
              "      border-left-color: var(--fill-color);\n",
              "      border-top-color: var(--fill-color);\n",
              "      border-right-color: var(--fill-color);\n",
              "    }\n",
              "    40% {\n",
              "      border-color: transparent;\n",
              "      border-right-color: var(--fill-color);\n",
              "      border-top-color: var(--fill-color);\n",
              "    }\n",
              "    60% {\n",
              "      border-color: transparent;\n",
              "      border-right-color: var(--fill-color);\n",
              "    }\n",
              "    80% {\n",
              "      border-color: transparent;\n",
              "      border-right-color: var(--fill-color);\n",
              "      border-bottom-color: var(--fill-color);\n",
              "    }\n",
              "    90% {\n",
              "      border-color: transparent;\n",
              "      border-bottom-color: var(--fill-color);\n",
              "    }\n",
              "  }\n",
              "</style>\n",
              "\n",
              "  <script>\n",
              "    async function quickchart(key) {\n",
              "      const quickchartButtonEl =\n",
              "        document.querySelector('#' + key + ' button');\n",
              "      quickchartButtonEl.disabled = true;  // To prevent multiple clicks.\n",
              "      quickchartButtonEl.classList.add('colab-df-spinner');\n",
              "      try {\n",
              "        const charts = await google.colab.kernel.invokeFunction(\n",
              "            'suggestCharts', [key], {});\n",
              "      } catch (error) {\n",
              "        console.error('Error during call to suggestCharts:', error);\n",
              "      }\n",
              "      quickchartButtonEl.classList.remove('colab-df-spinner');\n",
              "      quickchartButtonEl.classList.add('colab-df-quickchart-complete');\n",
              "    }\n",
              "    (() => {\n",
              "      let quickchartButtonEl =\n",
              "        document.querySelector('#df-61a5806c-dd8f-4553-83ed-1af219504087 button');\n",
              "      quickchartButtonEl.style.display =\n",
              "        google.colab.kernel.accessAllowed ? 'block' : 'none';\n",
              "    })();\n",
              "  </script>\n",
              "</div>\n",
              "    </div>\n",
              "  </div>\n"
            ]
          },
          "metadata": {},
          "execution_count": 58
        }
      ]
    },
    {
      "cell_type": "code",
      "source": [
        "data['label'].value_counts()"
      ],
      "metadata": {
        "colab": {
          "base_uri": "https://localhost:8080/"
        },
        "id": "2dYO0nrq78aM",
        "outputId": "70bb9d7c-9575-4eaf-e1df-16ac39fecb5d"
      },
      "execution_count": 66,
      "outputs": [
        {
          "output_type": "execute_result",
          "data": {
            "text/plain": [
              "0    4827\n",
              "1     747\n",
              "Name: label, dtype: int64"
            ]
          },
          "metadata": {},
          "execution_count": 66
        }
      ]
    },
    {
      "cell_type": "code",
      "source": [
        "RANDOM_STATE = 123"
      ],
      "metadata": {
        "id": "Vhf2vSlf0fBZ"
      },
      "execution_count": 60,
      "outputs": []
    },
    {
      "cell_type": "markdown",
      "source": [
        "# **Word2Vec SkipGram / CBOW**"
      ],
      "metadata": {
        "id": "wJZr-dPdFTrC"
      }
    },
    {
      "cell_type": "code",
      "source": [
        "%%time\n",
        "\n",
        "model_skipGram = gensim.models.Word2Vec(\n",
        "    sentences=data['sms'],\n",
        "    vector_size=256,\n",
        "    window=3,\n",
        "    min_count=10,\n",
        "    sg=1, # Training algorithm: 1 for skip-gram\n",
        "    hs=0,\n",
        "    negative=5,\n",
        "    epochs=25,\n",
        "    seed=RANDOM_STATE,\n",
        "\n",
        ")"
      ],
      "metadata": {
        "colab": {
          "base_uri": "https://localhost:8080/"
        },
        "id": "gXbPZF7pFZhE",
        "outputId": "099e8b48-f388-4dbd-98a3-d7853498d3d2"
      },
      "execution_count": 61,
      "outputs": [
        {
          "output_type": "stream",
          "name": "stdout",
          "text": [
            "CPU times: user 3.17 s, sys: 28.1 ms, total: 3.19 s\n",
            "Wall time: 3.03 s\n"
          ]
        }
      ]
    },
    {
      "cell_type": "code",
      "source": [
        "print(list(model_skipGram.wv.index_to_key))"
      ],
      "metadata": {
        "colab": {
          "base_uri": "https://localhost:8080/"
        },
        "id": "T0SVCFbXKur1",
        "outputId": "4ea8cc59-a5d7-40a3-98f1-6a533c030422"
      },
      "execution_count": 62,
      "outputs": [
        {
          "output_type": "stream",
          "name": "stdout",
          "text": [
            "['u', 'call', 'get', 'ur', 'go', 'like', 'know', 'got', 'come', 'free', 'want', 'good', 'text', 'send', 'time', 'need', 'love', 'going', 'r', 'one', 'still', 'ok', 'txt', 'n', 'see', 'think', 'tell', 'dont', 'take', 'new', 'mobile', 'reply', 'make', 'day', 'back', 'please', 'claim', 'say', 'stop', 'give', 'home', 'hope', 'phone', 'pls', 'hi', 'much', 'happy', 'today', 'let', 'thing', 'great', 'sorry', 'ask', 'c', 'hey', 'really', 'im', 'co', 'da', 'last', 'meet', 'e', 'week', 'miss', 'well', 'would', 'work', 'friend', 'number', 'win', 'every', 'contact', 'find', 'feel', 'oh', 'pick', 'way', 'right', 'nokia', 'dear', 'keep', 'said', 'msg', 'sent', 'cant', 'night', 'service', 'even', 'wat', 'tone', 'cash', 'b', 'also', 'could', 'yeah', 'prize', 'went', 'gud', 'many', 'message', 'next', 'gonna', 'someone', 'show', 'buy', 'anything', 'sure', 'per', 'dun', 'thanks', 'always', 'guy', 'wan', 'yes', 'told', 'wait', 'later', 'customer', 'waiting', 'year', 'wish', 'something', 'lol', 'leave', 'first', 'thk', 'chat', 'min', 'life', 'getting', 'care', 'place', 'around', 'already', 'try', 'never', 'may', 'mean', 'trying', 'nice', 'thought', 'coming', 'lot', 'draw', 'use', 'talk', 'ill', 'people', 'finish', 'money', 'morning', 'holiday', 'name', 'thats', 'live', 'k', 'awarded', 'latest', 'late', 'half', 'ya', 'start', 'wanna', 'v', 'receive', 'look', 'account', 'babe', 'end', 'dat', 'best', 'sleep', 'person', 'box', 'long', 'better', 'girl', 'another', 'po', 'smile', 'jus', 'hour', 'guess', 'quite', 'watching', 'might', 'word', 'chance', 'special', 'stuff', 'wont', 'check', 'sm', 'bit', 'eat', 'voucher', 'heart', 'cost', 'called', 'big', 'lunch', 'actually', 'video', 'made', 'watch', 'car', 'meeting', 'tomorrow', 'play', 'probably', 'help', 'reach', 'real', 'ever', 'maybe', 'put', 'enjoy', 'speak', 'ready', 'little', 'den', 'didnt', 'guaranteed', 'shall', 'yup', 'hear', 'dis', 'looking', 'two', 'dunno', 'x', 'remember', 'offer', 'luv', 'minute', 'job', 'without', 'pic', 'wif', 'selected', 'line', 'pay', 'camera', 'room', 'part', 'collect', 'wanted', 'network', 'plan', 'thank', 'sweet', 'pound', 'done', 'entry', 'mind', 'world', 'bring', 'must', 'man', 'shopping', 'bt', 'orange', 'god', 'hav', 'able', 'since', 'class', 'came', 'abt', 'fuck', 'bad', 'forgot', 'join', 'asked', 'dad', 'plus', 'juz', 'ringtone', 'yo', 'shit', 'hurt', 'face', 'left', 'everything', 'boy', 'wake', 'till', 'change', 'attempt', 'wen', 'nothing', 'birthday', 'dinner', 'making', 'saw', 'double', 'run', 'early', 'lor', 'wot', 'valid', 'sound', 'xmas', 'soon', 'stay', 'rate', 'school', 'tv', 'tried', 'haf', 'haha', 'bus', 'havent', 'important', 'colour', 'weekly', 'top', 'sexy', 'missed', 'price', 'update', 'month', 'til', 'sat', 'plz', 'town', 'enough', 'wid', 'gift', 'working', 'tot', 'fun', 'tonight', 'g', 'away', 'game', 'full', 'saying', 'await', 'detail', 'drink', 'missing', 'bonus', 'ard', 'pain', 'land', 'date', 'hot', 'either', 'yet', 'set', 'hair', 'cause', 'hello', 'movie', 'player', 'driving', 'wil', 'coz', 'post', 'walk', 'final', 'beautiful', 'music', 'took', 'book', 'mail', 'baby', 'taking', 'feeling', 'yr', 'lose', 'neva', 'started', 'question', 'mob', 'si', 'house', 'forget', 'sad', 'shop', 'dude', 'delivery', 'bored', 'problem', 'sch', 'finished', 'urgent', 'test', 'statement', 'tmr', 'head', 'answer', 'weekend', 'found', 'old', 'knw', 'goin', 'aft', 'fancy', 'believe', 'pobox', 'choose', 'drop', 'identifier', 'unsubscribe', 'worry', 'hows', 'decided', 'w', 'family', 'aight', 'anyway', 'id', 'worth', 'calling', 'drive', 'evening', 'code', 'oso', 'smoke', 'thinking', 'search', 'lesson', 'angry', 'thanx', 'sae', 'brother', 'open', 'trip', 'kind', 'sister', 'wit', 'dating', 'lucky', 'valentine', 'expires', 'office', 'visit', 'noe', 'charge', 'bout', 'ring', 'busy', 'fucking', 'together', 'match', 'happen', 'leaving', 'bank', 'bed', 'second', 'log', 'mate', 'online', 'wonder', 'order', 'whole', 'alright', 'carlos', 'poly', 'break', 'secret', 'mom', 'pretty', 'de', 'close', 'reason', 'true', 'lovely', 'uncle', 'ticket', 'operator', 'wkly', 'wk', 'card', 'cd', 'ten', 'friendship', 'anyone', 'telling', 'outside', 'light', 'almost', 'mum', 'opt', 'fine', 'pub', 'wife', 'wonderful', 'talking', 'party', 'used', 'easy', 'address', 'hit', 'darlin', 'caller', 'meant', 'fr', 'couple', 'congratulation', 'dnt', 'felt', 'everyone', 'anytime', 'dream', 'cool', 'available', 'currently', 'kiss', 'within', 'hold', 'finally', 'read', 'food', 'mine', 'type', 'th', 'smiling', 'nt', 'download', 'smth', 'gd', 'frnd', 'case', 'picking', 'hard', 'nite', 'national', 'treat', 'company', 'mayb', 'gas', 'unlimited', 'sort', 'blue', 'seeing', 'age', 'yar', 'apply', 'support', 'load', 'uk', 'else', 'gone', 'le', 'complimentary', 'news', 'landline', 'eve', 'pas', 'alone', 'enter', 'sex', 'term', 'gotta', 'direct', 'supposed', 'valued', 'crazy', 'single', 'club', 'content', 'wana', 'auction', 'txting', 'song', 'swing', 'surprise', 'discount', 'seen', 'st', 'least', 'checking', 'cut', 'via', 'return', 'photo', 'heard', 'reading', 'touch', 'wrong', 'fone', 'somebody', 'sending', 'entered', 'exam', 'dogging', 'whats', 'wine', 'sell', 'invited', 'point', 'muz', 'listen', 'askd', 'sleeping', 'whatever', 'collection', 'award', 'march', 'loved', 'eh', 'crave', 'frm', 'darren', 'ha', 'tel', 'extra', 'eg', 'asking', 'sun', 'happened', 'fantasy', 'eye', 'loving', 'film', 'press', 'cum', 'moment', 'project', 'afternoon', 'representative', 'gave', 'computer', 'story', 'pa', 'winner', 'booked', 'del', 'quiz', 'spend', 'orchard', 'teach', 'kick', 'mm', 'leaf', 'hmv', 'jay', 'woke', 'credit', 'near', 'save', 'summer', 'knew', 'ntt', 'promise', 'whenever', 'poor', 'camcorder', 'ugh', 'lost', 'wishing', 'rply', 'email', 'fri', 'gap', 'charged', 'train', 'across', 'hoping', 'member', 'empty']\n"
          ]
        }
      ]
    },
    {
      "cell_type": "code",
      "source": [
        "model_skipGram.wv.most_similar(positive=['good'])"
      ],
      "metadata": {
        "colab": {
          "base_uri": "https://localhost:8080/"
        },
        "id": "b4VwOk0_KFhN",
        "outputId": "63a77493-fd28-4493-ea90-f08f8582e0d5"
      },
      "execution_count": 63,
      "outputs": [
        {
          "output_type": "execute_result",
          "data": {
            "text/plain": [
              "[('afternoon', 0.8705199956893921),\n",
              " ('checking', 0.8634317517280579),\n",
              " ('morning', 0.8599331378936768),\n",
              " ('sleep', 0.8469310402870178),\n",
              " ('thank', 0.8228162527084351),\n",
              " ('wonderful', 0.8202673196792603),\n",
              " ('fine', 0.8159391283988953),\n",
              " ('sweet', 0.8139969706535339),\n",
              " ('hope', 0.8128907084465027),\n",
              " ('lovely', 0.8119279146194458)]"
            ]
          },
          "metadata": {},
          "execution_count": 63
        }
      ]
    },
    {
      "cell_type": "code",
      "source": [
        "model_skipGram.wv.most_similar(positive=['free'])"
      ],
      "metadata": {
        "colab": {
          "base_uri": "https://localhost:8080/"
        },
        "id": "2biqODCfPWMK",
        "outputId": "d32d7765-8aca-4e93-d855-e3814081b96d"
      },
      "execution_count": 64,
      "outputs": [
        {
          "output_type": "execute_result",
          "data": {
            "text/plain": [
              "[('camcorder', 0.8568751811981201),\n",
              " ('term', 0.8102431893348694),\n",
              " ('unlimited', 0.800847589969635),\n",
              " ('auction', 0.7954052090644836),\n",
              " ('player', 0.7938231229782104),\n",
              " ('latest', 0.7916122078895569),\n",
              " ('credit', 0.7849550843238831),\n",
              " ('content', 0.7682967782020569),\n",
              " ('entry', 0.7600165009498596),\n",
              " ('ringtone', 0.759759783744812)]"
            ]
          },
          "metadata": {},
          "execution_count": 64
        }
      ]
    },
    {
      "cell_type": "code",
      "source": [
        "model_skipGram.wv.doesnt_match(['like', 'good', 'going'])"
      ],
      "metadata": {
        "colab": {
          "base_uri": "https://localhost:8080/",
          "height": 36
        },
        "id": "XeW-yGL7Psoi",
        "outputId": "6fdf473e-40b8-4d38-8cde-9727199d174f"
      },
      "execution_count": 67,
      "outputs": [
        {
          "output_type": "execute_result",
          "data": {
            "text/plain": [
              "'like'"
            ],
            "application/vnd.google.colaboratory.intrinsic+json": {
              "type": "string"
            }
          },
          "metadata": {},
          "execution_count": 67
        }
      ]
    },
    {
      "cell_type": "code",
      "source": [
        "model_skipGram.wv.doesnt_match(['take', 'make', 'stop'])"
      ],
      "metadata": {
        "colab": {
          "base_uri": "https://localhost:8080/",
          "height": 36
        },
        "id": "T8Z530y9QEkC",
        "outputId": "5273fdad-3216-4f7e-aa9c-d9bd38e07aa1"
      },
      "execution_count": 68,
      "outputs": [
        {
          "output_type": "execute_result",
          "data": {
            "text/plain": [
              "'take'"
            ],
            "application/vnd.google.colaboratory.intrinsic+json": {
              "type": "string"
            }
          },
          "metadata": {},
          "execution_count": 68
        }
      ]
    },
    {
      "cell_type": "markdown",
      "source": [
        "# CBOW"
      ],
      "metadata": {
        "id": "ZuhzRIEVRPmy"
      }
    },
    {
      "cell_type": "code",
      "source": [
        "%%time\n",
        "\n",
        "model_cbow = gensim.models.Word2Vec(\n",
        "    sentences=data['sms'],\n",
        "    vector_size=256,\n",
        "    window=3,\n",
        "    min_count=10,\n",
        "    sg=0, # Training algorithm: 0 for cbow\n",
        "    hs=0,\n",
        "    negative=5,\n",
        "    epochs=25,\n",
        "    seed=RANDOM_STATE,\n",
        "\n",
        ")"
      ],
      "metadata": {
        "colab": {
          "base_uri": "https://localhost:8080/"
        },
        "id": "89GNObjXRB03",
        "outputId": "3b1fc9a6-62e1-48e5-d43f-3ec209c4fdd1"
      },
      "execution_count": 69,
      "outputs": [
        {
          "output_type": "stream",
          "name": "stdout",
          "text": [
            "CPU times: user 1.93 s, sys: 32 ms, total: 1.96 s\n",
            "Wall time: 2.49 s\n"
          ]
        }
      ]
    },
    {
      "cell_type": "code",
      "source": [
        "model_cbow.wv.most_similar(['take', 'make'])"
      ],
      "metadata": {
        "colab": {
          "base_uri": "https://localhost:8080/"
        },
        "id": "h7e_SdUSRZCK",
        "outputId": "72cf7bf6-2a4d-4d19-c0ef-8b62904cd565"
      },
      "execution_count": 70,
      "outputs": [
        {
          "output_type": "execute_result",
          "data": {
            "text/plain": [
              "[('crave', 0.970413863658905),\n",
              " ('first', 0.96686851978302),\n",
              " ('everything', 0.9660127758979797),\n",
              " ('plan', 0.9657533168792725),\n",
              " ('read', 0.9655759930610657),\n",
              " ('making', 0.965548038482666),\n",
              " ('smoke', 0.9649391770362854),\n",
              " ('least', 0.9647969603538513),\n",
              " ('shit', 0.9637686610221863),\n",
              " ('kind', 0.9635578393936157)]"
            ]
          },
          "metadata": {},
          "execution_count": 70
        }
      ]
    },
    {
      "cell_type": "markdown",
      "source": [
        "Вывод - для введенных слов получаются достаточно логичные ответы"
      ],
      "metadata": {
        "id": "zGj4XylBYJmZ"
      }
    },
    {
      "cell_type": "markdown",
      "source": [
        "# FastText"
      ],
      "metadata": {
        "id": "NPwld4X0oJtv"
      }
    },
    {
      "cell_type": "code",
      "source": [
        "#data_str =[]\n",
        "#for d in data[\"sms\"]:\n",
        " # data_str.append(\" \".join(d))\n",
        "\n",
        "#with open('data.txt', 'w') as f:\n",
        " #   f.writelines(data_str)"
      ],
      "metadata": {
        "id": "j4tgVZnqSLZg"
      },
      "execution_count": 17,
      "outputs": []
    },
    {
      "cell_type": "code",
      "source": [
        "#model_fasttext = fasttext.train_unsupervised('data.txt', wordNgrams=3, dim=256)"
      ],
      "metadata": {
        "id": "zPAfHnE0lfLY"
      },
      "execution_count": null,
      "outputs": []
    },
    {
      "cell_type": "code",
      "source": [
        "%%time\n",
        "\n",
        "model_fasttext = gensim.models.FastText(\n",
        "    sentences=data['sms'],\n",
        "    min_n=3,\n",
        "    max_n=5,\n",
        "    vector_size=256,  # default = 100\n",
        "    window=3,  # default = 5\n",
        "    min_count=10,\n",
        "    sg=1,  # Training algorithm: 1 for skip-gram; otherwise CBOW\n",
        "    hs=0,\n",
        "    #  If 1, hierarchical softmax will be used for model training. If 0, and negative is non-zero, negative sampling will be used.\n",
        "    negative=5,  # If > 0, negative sampling will be used, if set to 0, no negative sampling is used.\n",
        "    epochs=25,  # Number of iterations (epochs) over the corpus\n",
        "    seed=RANDOM_STATE,\n",
        ")"
      ],
      "metadata": {
        "colab": {
          "base_uri": "https://localhost:8080/"
        },
        "id": "zNNxiYhOn3od",
        "outputId": "92959705-f13d-4650-faa8-069bcb4abc0a"
      },
      "execution_count": 72,
      "outputs": [
        {
          "output_type": "stream",
          "name": "stdout",
          "text": [
            "CPU times: user 9.3 s, sys: 4.21 s, total: 13.5 s\n",
            "Wall time: 12.3 s\n"
          ]
        }
      ]
    },
    {
      "cell_type": "code",
      "source": [
        "model_fasttext.wv.most_similar(positive=['secret'])"
      ],
      "metadata": {
        "colab": {
          "base_uri": "https://localhost:8080/"
        },
        "id": "JK9b6iWgluWM",
        "outputId": "1305784f-f542-42db-f74d-f20d75555774"
      },
      "execution_count": 75,
      "outputs": [
        {
          "output_type": "execute_result",
          "data": {
            "text/plain": [
              "[('make', 0.8268299698829651),\n",
              " ('tried', 0.8061160445213318),\n",
              " ('contact', 0.7928506731987),\n",
              " ('asked', 0.7462389469146729),\n",
              " ('think', 0.7439468502998352),\n",
              " ('second', 0.7357189655303955),\n",
              " ('dating', 0.7275363206863403),\n",
              " ('looking', 0.722825825214386),\n",
              " ('wil', 0.7206500768661499),\n",
              " ('school', 0.7157709002494812)]"
            ]
          },
          "metadata": {},
          "execution_count": 75
        }
      ]
    },
    {
      "cell_type": "code",
      "source": [
        "model_fasttext.wv.most_similar(positive=['natalia'])"
      ],
      "metadata": {
        "colab": {
          "base_uri": "https://localhost:8080/"
        },
        "id": "IZirQTw9mFH4",
        "outputId": "c2cfb936-92a7-49e6-886f-e081b3f8c2de"
      },
      "execution_count": 76,
      "outputs": [
        {
          "output_type": "execute_result",
          "data": {
            "text/plain": [
              "[('national', 0.9566741585731506),\n",
              " ('pobox', 0.9356648921966553),\n",
              " ('ntt', 0.9203218221664429),\n",
              " ('rate', 0.902862012386322),\n",
              " ('operator', 0.8995065689086914),\n",
              " ('fantasy', 0.8945485353469849),\n",
              " ('box', 0.8929278254508972),\n",
              " ('collection', 0.8842521905899048),\n",
              " ('valued', 0.8840823769569397),\n",
              " ('credit', 0.8774592280387878)]"
            ]
          },
          "metadata": {},
          "execution_count": 76
        }
      ]
    },
    {
      "cell_type": "markdown",
      "source": [
        "Вывод: выводит похожие слова даже для тех слов, которых не было в словаре"
      ],
      "metadata": {
        "id": "ifbXfc-1mOGV"
      }
    },
    {
      "cell_type": "markdown",
      "source": [
        "# Сравнение"
      ],
      "metadata": {
        "id": "pANTs73ImicS"
      }
    },
    {
      "cell_type": "code",
      "source": [
        "model_skipGram.wv.most_similar(positive= [\"school\"] )"
      ],
      "metadata": {
        "colab": {
          "base_uri": "https://localhost:8080/"
        },
        "id": "HIIPl5t_mJQr",
        "outputId": "b43fa019-c41f-4966-8f50-df3e4f0c5fab"
      },
      "execution_count": 77,
      "outputs": [
        {
          "output_type": "execute_result",
          "data": {
            "text/plain": [
              "[('thinking', 0.9066758751869202),\n",
              " ('pretty', 0.8472338318824768),\n",
              " ('gave', 0.8441844582557678),\n",
              " ('leaving', 0.8411120176315308),\n",
              " ('yet', 0.8394403457641602),\n",
              " ('knew', 0.8393863439559937),\n",
              " ('working', 0.834182620048523),\n",
              " ('online', 0.8328015804290771),\n",
              " ('driving', 0.832524299621582),\n",
              " ('booked', 0.832129955291748)]"
            ]
          },
          "metadata": {},
          "execution_count": 77
        }
      ]
    },
    {
      "cell_type": "code",
      "source": [
        "model_cbow.wv.most_similar(positive=['school'])"
      ],
      "metadata": {
        "colab": {
          "base_uri": "https://localhost:8080/"
        },
        "id": "67-wk0xpm_66",
        "outputId": "b7419633-c6a2-41ae-cb7f-c23117edb875"
      },
      "execution_count": 78,
      "outputs": [
        {
          "output_type": "execute_result",
          "data": {
            "text/plain": [
              "[('thinking', 0.994768500328064),\n",
              " ('knew', 0.9945111870765686),\n",
              " ('eh', 0.9935082197189331),\n",
              " ('decided', 0.9933621287345886),\n",
              " ('yet', 0.9933050870895386),\n",
              " ('telling', 0.9932901263237),\n",
              " ('leaving', 0.9930906295776367),\n",
              " ('finished', 0.9929855465888977),\n",
              " ('pretty', 0.9926241636276245),\n",
              " ('happened', 0.9925897717475891)]"
            ]
          },
          "metadata": {},
          "execution_count": 78
        }
      ]
    },
    {
      "cell_type": "code",
      "source": [
        "model_fasttext.wv.most_similar(positive=['school'])"
      ],
      "metadata": {
        "colab": {
          "base_uri": "https://localhost:8080/"
        },
        "id": "pV-Lc7lWnEO8",
        "outputId": "f378aad4-7fdb-48a2-ecdf-a24eaae63cb0"
      },
      "execution_count": 79,
      "outputs": [
        {
          "output_type": "execute_result",
          "data": {
            "text/plain": [
              "[('booked', 0.9000470638275146),\n",
              " ('food', 0.8934179544448853),\n",
              " ('pretty', 0.8902953863143921),\n",
              " ('mm', 0.8871684074401855),\n",
              " ('haha', 0.885444700717926),\n",
              " ('decided', 0.8816037178039551),\n",
              " ('promise', 0.877407431602478),\n",
              " ('used', 0.8763375282287598),\n",
              " ('else', 0.869695782661438),\n",
              " ('point', 0.8664596676826477)]"
            ]
          },
          "metadata": {},
          "execution_count": 79
        }
      ]
    },
    {
      "cell_type": "markdown",
      "source": [
        " Skip-gram  и CBOW по контексту выдает более оптимальные варианты, а Fasttext схожие по морфемам."
      ],
      "metadata": {
        "id": "X5kS8D0znSub"
      }
    },
    {
      "cell_type": "markdown",
      "source": [
        "# Визуализация полученных векторов\n"
      ],
      "metadata": {
        "id": "bhn_iDdX76VB"
      }
    },
    {
      "cell_type": "code",
      "source": [
        "import matplotlib.pyplot as plt\n",
        "def make_vizual_model(model):\n",
        "    words = list(model.wv.key_to_index.keys())\n",
        "\n",
        "    word_vectors = np.array([model.wv.get_vector(word) for word in words])\n",
        "\n",
        "    tsne = TSNE(n_components=3, random_state=0)\n",
        "    word_vectors_3d = tsne.fit_transform(word_vectors)\n",
        "\n",
        "\n",
        "\n",
        "    plt.scatter(tsne[:, 0], tsne[:, 1])\n",
        "    for i, word in enumerate(model.wv.index2word):\n",
        "      plt.annotate(word, xy=(tsne[i, 0], tsne[i, 1]))\n",
        "    plt.show()\n",
        "\n"
      ],
      "metadata": {
        "id": "1uqj578879ze"
      },
      "execution_count": 24,
      "outputs": []
    },
    {
      "cell_type": "markdown",
      "source": [
        "# Обучение LogisticRegression\n"
      ],
      "metadata": {
        "id": "k7YN2c0coeOZ"
      }
    },
    {
      "cell_type": "code",
      "source": [
        "unk_word_vector = np.random.rand(256) # вектор для слов, котрые не встречались в тексте"
      ],
      "metadata": {
        "id": "IA9FzcCjRIAI"
      },
      "execution_count": 26,
      "outputs": []
    },
    {
      "cell_type": "code",
      "source": [
        "def mean_vector(doc, model):\n",
        "    sentence_vector = [model.wv.get_vector(word) if model.wv.has_index_for(word) else unk_word_vector for word in doc]\n",
        "    if not sentence_vector:\n",
        "      return np.zeros(256)\n",
        "    return np.mean(sentence_vector, axis=0)"
      ],
      "metadata": {
        "id": "JR1yYSTmRVcJ"
      },
      "execution_count": 88,
      "outputs": []
    },
    {
      "cell_type": "code",
      "source": [
        "data['vector_skip_gram'] = data['sms'].apply(lambda x: mean_vector(x, model_skipGram))\n",
        "data['vector_cbow'] = data['sms'].apply(lambda x: mean_vector(x, model_cbow))\n",
        "data['vector_fasttext'] = data['sms'].apply(lambda x: mean_vector(x, model_fasttext))"
      ],
      "metadata": {
        "id": "4Lo9x4Y7RitE"
      },
      "execution_count": 89,
      "outputs": []
    },
    {
      "cell_type": "code",
      "source": [
        "data.head()"
      ],
      "metadata": {
        "colab": {
          "base_uri": "https://localhost:8080/",
          "height": 293
        },
        "id": "D1n0HImQV5b1",
        "outputId": "b35d375a-5212-418f-b976-5db77bd3e491"
      },
      "execution_count": 83,
      "outputs": [
        {
          "output_type": "execute_result",
          "data": {
            "text/plain": [
              "                                                 sms  label  \\\n",
              "0  [go, jurong, available, bugis, n, great, world...      0   \n",
              "1                               [ok, joking, wif, u]      0   \n",
              "2  [free, entry, wkly, comp, win, fa, cup, final,...      1   \n",
              "3                [u, dun, say, early, u, c, already]      0   \n",
              "4                     [nah, think, go, life, around]      0   \n",
              "\n",
              "                                    vector_skip_gram  \\\n",
              "0  [0.34200708301605026, 0.37384535165490945, 0.4...   \n",
              "1  [0.11672714349873733, 0.12931414339031871, 0.3...   \n",
              "2  [0.17451335352454797, 0.33637768226520665, 0.2...   \n",
              "3  [-0.13074645, 0.047014184, 0.22826147, -0.0866...   \n",
              "4  [0.1831883296151787, 0.35734538180225967, 0.33...   \n",
              "\n",
              "                                         vector_cbow  \\\n",
              "0  [0.34187436968498547, 0.39815631212809177, 0.5...   \n",
              "1  [0.1450308412040062, 0.3080731180430561, 0.450...   \n",
              "2  [0.17930628088145048, 0.32321901362496236, 0.1...   \n",
              "3  [-0.12945297, 0.21594672, 0.33778098, -0.13029...   \n",
              "4  [0.15508923248994647, 0.33023878313073396, 0.4...   \n",
              "\n",
              "                                     vector_fasttext  \n",
              "0  [0.3853458926246874, 0.29606088156644, 0.39887...  \n",
              "1  [0.07733026889212799, 0.13311722054418024, 0.2...  \n",
              "2  [0.29088309718138067, 0.12681605118899414, 0.3...  \n",
              "3  [-0.17439173, -0.028593889, 0.021341603, 0.087...  \n",
              "4  [0.20532458198863565, 0.15665972563841818, 0.2...  "
            ],
            "text/html": [
              "\n",
              "  <div id=\"df-73b8fe4a-3729-4ec0-aa63-8fca5d1a396a\" class=\"colab-df-container\">\n",
              "    <div>\n",
              "<style scoped>\n",
              "    .dataframe tbody tr th:only-of-type {\n",
              "        vertical-align: middle;\n",
              "    }\n",
              "\n",
              "    .dataframe tbody tr th {\n",
              "        vertical-align: top;\n",
              "    }\n",
              "\n",
              "    .dataframe thead th {\n",
              "        text-align: right;\n",
              "    }\n",
              "</style>\n",
              "<table border=\"1\" class=\"dataframe\">\n",
              "  <thead>\n",
              "    <tr style=\"text-align: right;\">\n",
              "      <th></th>\n",
              "      <th>sms</th>\n",
              "      <th>label</th>\n",
              "      <th>vector_skip_gram</th>\n",
              "      <th>vector_cbow</th>\n",
              "      <th>vector_fasttext</th>\n",
              "    </tr>\n",
              "  </thead>\n",
              "  <tbody>\n",
              "    <tr>\n",
              "      <th>0</th>\n",
              "      <td>[go, jurong, available, bugis, n, great, world...</td>\n",
              "      <td>0</td>\n",
              "      <td>[0.34200708301605026, 0.37384535165490945, 0.4...</td>\n",
              "      <td>[0.34187436968498547, 0.39815631212809177, 0.5...</td>\n",
              "      <td>[0.3853458926246874, 0.29606088156644, 0.39887...</td>\n",
              "    </tr>\n",
              "    <tr>\n",
              "      <th>1</th>\n",
              "      <td>[ok, joking, wif, u]</td>\n",
              "      <td>0</td>\n",
              "      <td>[0.11672714349873733, 0.12931414339031871, 0.3...</td>\n",
              "      <td>[0.1450308412040062, 0.3080731180430561, 0.450...</td>\n",
              "      <td>[0.07733026889212799, 0.13311722054418024, 0.2...</td>\n",
              "    </tr>\n",
              "    <tr>\n",
              "      <th>2</th>\n",
              "      <td>[free, entry, wkly, comp, win, fa, cup, final,...</td>\n",
              "      <td>1</td>\n",
              "      <td>[0.17451335352454797, 0.33637768226520665, 0.2...</td>\n",
              "      <td>[0.17930628088145048, 0.32321901362496236, 0.1...</td>\n",
              "      <td>[0.29088309718138067, 0.12681605118899414, 0.3...</td>\n",
              "    </tr>\n",
              "    <tr>\n",
              "      <th>3</th>\n",
              "      <td>[u, dun, say, early, u, c, already]</td>\n",
              "      <td>0</td>\n",
              "      <td>[-0.13074645, 0.047014184, 0.22826147, -0.0866...</td>\n",
              "      <td>[-0.12945297, 0.21594672, 0.33778098, -0.13029...</td>\n",
              "      <td>[-0.17439173, -0.028593889, 0.021341603, 0.087...</td>\n",
              "    </tr>\n",
              "    <tr>\n",
              "      <th>4</th>\n",
              "      <td>[nah, think, go, life, around]</td>\n",
              "      <td>0</td>\n",
              "      <td>[0.1831883296151787, 0.35734538180225967, 0.33...</td>\n",
              "      <td>[0.15508923248994647, 0.33023878313073396, 0.4...</td>\n",
              "      <td>[0.20532458198863565, 0.15665972563841818, 0.2...</td>\n",
              "    </tr>\n",
              "  </tbody>\n",
              "</table>\n",
              "</div>\n",
              "    <div class=\"colab-df-buttons\">\n",
              "\n",
              "  <div class=\"colab-df-container\">\n",
              "    <button class=\"colab-df-convert\" onclick=\"convertToInteractive('df-73b8fe4a-3729-4ec0-aa63-8fca5d1a396a')\"\n",
              "            title=\"Convert this dataframe to an interactive table.\"\n",
              "            style=\"display:none;\">\n",
              "\n",
              "  <svg xmlns=\"http://www.w3.org/2000/svg\" height=\"24px\" viewBox=\"0 -960 960 960\">\n",
              "    <path d=\"M120-120v-720h720v720H120Zm60-500h600v-160H180v160Zm220 220h160v-160H400v160Zm0 220h160v-160H400v160ZM180-400h160v-160H180v160Zm440 0h160v-160H620v160ZM180-180h160v-160H180v160Zm440 0h160v-160H620v160Z\"/>\n",
              "  </svg>\n",
              "    </button>\n",
              "\n",
              "  <style>\n",
              "    .colab-df-container {\n",
              "      display:flex;\n",
              "      gap: 12px;\n",
              "    }\n",
              "\n",
              "    .colab-df-convert {\n",
              "      background-color: #E8F0FE;\n",
              "      border: none;\n",
              "      border-radius: 50%;\n",
              "      cursor: pointer;\n",
              "      display: none;\n",
              "      fill: #1967D2;\n",
              "      height: 32px;\n",
              "      padding: 0 0 0 0;\n",
              "      width: 32px;\n",
              "    }\n",
              "\n",
              "    .colab-df-convert:hover {\n",
              "      background-color: #E2EBFA;\n",
              "      box-shadow: 0px 1px 2px rgba(60, 64, 67, 0.3), 0px 1px 3px 1px rgba(60, 64, 67, 0.15);\n",
              "      fill: #174EA6;\n",
              "    }\n",
              "\n",
              "    .colab-df-buttons div {\n",
              "      margin-bottom: 4px;\n",
              "    }\n",
              "\n",
              "    [theme=dark] .colab-df-convert {\n",
              "      background-color: #3B4455;\n",
              "      fill: #D2E3FC;\n",
              "    }\n",
              "\n",
              "    [theme=dark] .colab-df-convert:hover {\n",
              "      background-color: #434B5C;\n",
              "      box-shadow: 0px 1px 3px 1px rgba(0, 0, 0, 0.15);\n",
              "      filter: drop-shadow(0px 1px 2px rgba(0, 0, 0, 0.3));\n",
              "      fill: #FFFFFF;\n",
              "    }\n",
              "  </style>\n",
              "\n",
              "    <script>\n",
              "      const buttonEl =\n",
              "        document.querySelector('#df-73b8fe4a-3729-4ec0-aa63-8fca5d1a396a button.colab-df-convert');\n",
              "      buttonEl.style.display =\n",
              "        google.colab.kernel.accessAllowed ? 'block' : 'none';\n",
              "\n",
              "      async function convertToInteractive(key) {\n",
              "        const element = document.querySelector('#df-73b8fe4a-3729-4ec0-aa63-8fca5d1a396a');\n",
              "        const dataTable =\n",
              "          await google.colab.kernel.invokeFunction('convertToInteractive',\n",
              "                                                    [key], {});\n",
              "        if (!dataTable) return;\n",
              "\n",
              "        const docLinkHtml = 'Like what you see? Visit the ' +\n",
              "          '<a target=\"_blank\" href=https://colab.research.google.com/notebooks/data_table.ipynb>data table notebook</a>'\n",
              "          + ' to learn more about interactive tables.';\n",
              "        element.innerHTML = '';\n",
              "        dataTable['output_type'] = 'display_data';\n",
              "        await google.colab.output.renderOutput(dataTable, element);\n",
              "        const docLink = document.createElement('div');\n",
              "        docLink.innerHTML = docLinkHtml;\n",
              "        element.appendChild(docLink);\n",
              "      }\n",
              "    </script>\n",
              "  </div>\n",
              "\n",
              "\n",
              "<div id=\"df-c0d27427-be97-44af-8289-f96d1c98da83\">\n",
              "  <button class=\"colab-df-quickchart\" onclick=\"quickchart('df-c0d27427-be97-44af-8289-f96d1c98da83')\"\n",
              "            title=\"Suggest charts.\"\n",
              "            style=\"display:none;\">\n",
              "\n",
              "<svg xmlns=\"http://www.w3.org/2000/svg\" height=\"24px\"viewBox=\"0 0 24 24\"\n",
              "     width=\"24px\">\n",
              "    <g>\n",
              "        <path d=\"M19 3H5c-1.1 0-2 .9-2 2v14c0 1.1.9 2 2 2h14c1.1 0 2-.9 2-2V5c0-1.1-.9-2-2-2zM9 17H7v-7h2v7zm4 0h-2V7h2v10zm4 0h-2v-4h2v4z\"/>\n",
              "    </g>\n",
              "</svg>\n",
              "  </button>\n",
              "\n",
              "<style>\n",
              "  .colab-df-quickchart {\n",
              "      --bg-color: #E8F0FE;\n",
              "      --fill-color: #1967D2;\n",
              "      --hover-bg-color: #E2EBFA;\n",
              "      --hover-fill-color: #174EA6;\n",
              "      --disabled-fill-color: #AAA;\n",
              "      --disabled-bg-color: #DDD;\n",
              "  }\n",
              "\n",
              "  [theme=dark] .colab-df-quickchart {\n",
              "      --bg-color: #3B4455;\n",
              "      --fill-color: #D2E3FC;\n",
              "      --hover-bg-color: #434B5C;\n",
              "      --hover-fill-color: #FFFFFF;\n",
              "      --disabled-bg-color: #3B4455;\n",
              "      --disabled-fill-color: #666;\n",
              "  }\n",
              "\n",
              "  .colab-df-quickchart {\n",
              "    background-color: var(--bg-color);\n",
              "    border: none;\n",
              "    border-radius: 50%;\n",
              "    cursor: pointer;\n",
              "    display: none;\n",
              "    fill: var(--fill-color);\n",
              "    height: 32px;\n",
              "    padding: 0;\n",
              "    width: 32px;\n",
              "  }\n",
              "\n",
              "  .colab-df-quickchart:hover {\n",
              "    background-color: var(--hover-bg-color);\n",
              "    box-shadow: 0 1px 2px rgba(60, 64, 67, 0.3), 0 1px 3px 1px rgba(60, 64, 67, 0.15);\n",
              "    fill: var(--button-hover-fill-color);\n",
              "  }\n",
              "\n",
              "  .colab-df-quickchart-complete:disabled,\n",
              "  .colab-df-quickchart-complete:disabled:hover {\n",
              "    background-color: var(--disabled-bg-color);\n",
              "    fill: var(--disabled-fill-color);\n",
              "    box-shadow: none;\n",
              "  }\n",
              "\n",
              "  .colab-df-spinner {\n",
              "    border: 2px solid var(--fill-color);\n",
              "    border-color: transparent;\n",
              "    border-bottom-color: var(--fill-color);\n",
              "    animation:\n",
              "      spin 1s steps(1) infinite;\n",
              "  }\n",
              "\n",
              "  @keyframes spin {\n",
              "    0% {\n",
              "      border-color: transparent;\n",
              "      border-bottom-color: var(--fill-color);\n",
              "      border-left-color: var(--fill-color);\n",
              "    }\n",
              "    20% {\n",
              "      border-color: transparent;\n",
              "      border-left-color: var(--fill-color);\n",
              "      border-top-color: var(--fill-color);\n",
              "    }\n",
              "    30% {\n",
              "      border-color: transparent;\n",
              "      border-left-color: var(--fill-color);\n",
              "      border-top-color: var(--fill-color);\n",
              "      border-right-color: var(--fill-color);\n",
              "    }\n",
              "    40% {\n",
              "      border-color: transparent;\n",
              "      border-right-color: var(--fill-color);\n",
              "      border-top-color: var(--fill-color);\n",
              "    }\n",
              "    60% {\n",
              "      border-color: transparent;\n",
              "      border-right-color: var(--fill-color);\n",
              "    }\n",
              "    80% {\n",
              "      border-color: transparent;\n",
              "      border-right-color: var(--fill-color);\n",
              "      border-bottom-color: var(--fill-color);\n",
              "    }\n",
              "    90% {\n",
              "      border-color: transparent;\n",
              "      border-bottom-color: var(--fill-color);\n",
              "    }\n",
              "  }\n",
              "</style>\n",
              "\n",
              "  <script>\n",
              "    async function quickchart(key) {\n",
              "      const quickchartButtonEl =\n",
              "        document.querySelector('#' + key + ' button');\n",
              "      quickchartButtonEl.disabled = true;  // To prevent multiple clicks.\n",
              "      quickchartButtonEl.classList.add('colab-df-spinner');\n",
              "      try {\n",
              "        const charts = await google.colab.kernel.invokeFunction(\n",
              "            'suggestCharts', [key], {});\n",
              "      } catch (error) {\n",
              "        console.error('Error during call to suggestCharts:', error);\n",
              "      }\n",
              "      quickchartButtonEl.classList.remove('colab-df-spinner');\n",
              "      quickchartButtonEl.classList.add('colab-df-quickchart-complete');\n",
              "    }\n",
              "    (() => {\n",
              "      let quickchartButtonEl =\n",
              "        document.querySelector('#df-c0d27427-be97-44af-8289-f96d1c98da83 button');\n",
              "      quickchartButtonEl.style.display =\n",
              "        google.colab.kernel.accessAllowed ? 'block' : 'none';\n",
              "    })();\n",
              "  </script>\n",
              "</div>\n",
              "    </div>\n",
              "  </div>\n"
            ]
          },
          "metadata": {},
          "execution_count": 83
        }
      ]
    },
    {
      "cell_type": "code",
      "source": [
        "x_train, x_test, y_train, y_test = train_test_split(data['vector_skip_gram'], data['label'],random_state=RANDOM_STATE)"
      ],
      "metadata": {
        "id": "95-n797bWGVf"
      },
      "execution_count": 90,
      "outputs": []
    },
    {
      "cell_type": "code",
      "source": [
        "model_log_reg = LogisticRegression()\n",
        "model_log_reg.fit(list(x_train), list(y_train))"
      ],
      "metadata": {
        "colab": {
          "base_uri": "https://localhost:8080/",
          "height": 74
        },
        "id": "cYER5CZiaEKw",
        "outputId": "0895238f-1737-43b0-bf49-a99955ad3b37"
      },
      "execution_count": 91,
      "outputs": [
        {
          "output_type": "execute_result",
          "data": {
            "text/plain": [
              "LogisticRegression()"
            ],
            "text/html": [
              "<style>#sk-container-id-1 {color: black;background-color: white;}#sk-container-id-1 pre{padding: 0;}#sk-container-id-1 div.sk-toggleable {background-color: white;}#sk-container-id-1 label.sk-toggleable__label {cursor: pointer;display: block;width: 100%;margin-bottom: 0;padding: 0.3em;box-sizing: border-box;text-align: center;}#sk-container-id-1 label.sk-toggleable__label-arrow:before {content: \"▸\";float: left;margin-right: 0.25em;color: #696969;}#sk-container-id-1 label.sk-toggleable__label-arrow:hover:before {color: black;}#sk-container-id-1 div.sk-estimator:hover label.sk-toggleable__label-arrow:before {color: black;}#sk-container-id-1 div.sk-toggleable__content {max-height: 0;max-width: 0;overflow: hidden;text-align: left;background-color: #f0f8ff;}#sk-container-id-1 div.sk-toggleable__content pre {margin: 0.2em;color: black;border-radius: 0.25em;background-color: #f0f8ff;}#sk-container-id-1 input.sk-toggleable__control:checked~div.sk-toggleable__content {max-height: 200px;max-width: 100%;overflow: auto;}#sk-container-id-1 input.sk-toggleable__control:checked~label.sk-toggleable__label-arrow:before {content: \"▾\";}#sk-container-id-1 div.sk-estimator input.sk-toggleable__control:checked~label.sk-toggleable__label {background-color: #d4ebff;}#sk-container-id-1 div.sk-label input.sk-toggleable__control:checked~label.sk-toggleable__label {background-color: #d4ebff;}#sk-container-id-1 input.sk-hidden--visually {border: 0;clip: rect(1px 1px 1px 1px);clip: rect(1px, 1px, 1px, 1px);height: 1px;margin: -1px;overflow: hidden;padding: 0;position: absolute;width: 1px;}#sk-container-id-1 div.sk-estimator {font-family: monospace;background-color: #f0f8ff;border: 1px dotted black;border-radius: 0.25em;box-sizing: border-box;margin-bottom: 0.5em;}#sk-container-id-1 div.sk-estimator:hover {background-color: #d4ebff;}#sk-container-id-1 div.sk-parallel-item::after {content: \"\";width: 100%;border-bottom: 1px solid gray;flex-grow: 1;}#sk-container-id-1 div.sk-label:hover label.sk-toggleable__label {background-color: #d4ebff;}#sk-container-id-1 div.sk-serial::before {content: \"\";position: absolute;border-left: 1px solid gray;box-sizing: border-box;top: 0;bottom: 0;left: 50%;z-index: 0;}#sk-container-id-1 div.sk-serial {display: flex;flex-direction: column;align-items: center;background-color: white;padding-right: 0.2em;padding-left: 0.2em;position: relative;}#sk-container-id-1 div.sk-item {position: relative;z-index: 1;}#sk-container-id-1 div.sk-parallel {display: flex;align-items: stretch;justify-content: center;background-color: white;position: relative;}#sk-container-id-1 div.sk-item::before, #sk-container-id-1 div.sk-parallel-item::before {content: \"\";position: absolute;border-left: 1px solid gray;box-sizing: border-box;top: 0;bottom: 0;left: 50%;z-index: -1;}#sk-container-id-1 div.sk-parallel-item {display: flex;flex-direction: column;z-index: 1;position: relative;background-color: white;}#sk-container-id-1 div.sk-parallel-item:first-child::after {align-self: flex-end;width: 50%;}#sk-container-id-1 div.sk-parallel-item:last-child::after {align-self: flex-start;width: 50%;}#sk-container-id-1 div.sk-parallel-item:only-child::after {width: 0;}#sk-container-id-1 div.sk-dashed-wrapped {border: 1px dashed gray;margin: 0 0.4em 0.5em 0.4em;box-sizing: border-box;padding-bottom: 0.4em;background-color: white;}#sk-container-id-1 div.sk-label label {font-family: monospace;font-weight: bold;display: inline-block;line-height: 1.2em;}#sk-container-id-1 div.sk-label-container {text-align: center;}#sk-container-id-1 div.sk-container {/* jupyter's `normalize.less` sets `[hidden] { display: none; }` but bootstrap.min.css set `[hidden] { display: none !important; }` so we also need the `!important` here to be able to override the default hidden behavior on the sphinx rendered scikit-learn.org. See: https://github.com/scikit-learn/scikit-learn/issues/21755 */display: inline-block !important;position: relative;}#sk-container-id-1 div.sk-text-repr-fallback {display: none;}</style><div id=\"sk-container-id-1\" class=\"sk-top-container\"><div class=\"sk-text-repr-fallback\"><pre>LogisticRegression()</pre><b>In a Jupyter environment, please rerun this cell to show the HTML representation or trust the notebook. <br />On GitHub, the HTML representation is unable to render, please try loading this page with nbviewer.org.</b></div><div class=\"sk-container\" hidden><div class=\"sk-item\"><div class=\"sk-estimator sk-toggleable\"><input class=\"sk-toggleable__control sk-hidden--visually\" id=\"sk-estimator-id-1\" type=\"checkbox\" checked><label for=\"sk-estimator-id-1\" class=\"sk-toggleable__label sk-toggleable__label-arrow\">LogisticRegression</label><div class=\"sk-toggleable__content\"><pre>LogisticRegression()</pre></div></div></div></div></div>"
            ]
          },
          "metadata": {},
          "execution_count": 91
        }
      ]
    },
    {
      "cell_type": "code",
      "source": [
        "pred_skip_gram = model_log_reg.predict(list(x_test))\n",
        "print(classification_report(y_test, pred_skip_gram))"
      ],
      "metadata": {
        "colab": {
          "base_uri": "https://localhost:8080/"
        },
        "id": "1Xid5VWmE9-z",
        "outputId": "963ffaa3-f8c8-4169-a1eb-6192fc91a67a"
      },
      "execution_count": 98,
      "outputs": [
        {
          "output_type": "stream",
          "name": "stdout",
          "text": [
            "              precision    recall  f1-score   support\n",
            "\n",
            "           0       0.88      1.00      0.93      1190\n",
            "           1       1.00      0.17      0.29       204\n",
            "\n",
            "    accuracy                           0.88      1394\n",
            "   macro avg       0.94      0.58      0.61      1394\n",
            "weighted avg       0.89      0.88      0.84      1394\n",
            "\n"
          ]
        }
      ]
    },
    {
      "cell_type": "code",
      "source": [
        "x_train, x_test, y_train, y_test = train_test_split(data['vector_cbow'], data['label'],random_state=RANDOM_STATE)"
      ],
      "metadata": {
        "id": "0ppTbImjDxwT"
      },
      "execution_count": 92,
      "outputs": []
    },
    {
      "cell_type": "code",
      "source": [
        "# Создание и обучение модели логистической регрессии на эмбеддингах cbow\n",
        "model_cbow_regression = LogisticRegression()\n",
        "model_cbow_regression.fit(list(x_train), y_train)"
      ],
      "metadata": {
        "id": "wcawMOOTPpHX",
        "colab": {
          "base_uri": "https://localhost:8080/",
          "height": 74
        },
        "outputId": "a0e698fb-9832-4d6c-e796-19764ae53437"
      },
      "execution_count": 94,
      "outputs": [
        {
          "output_type": "execute_result",
          "data": {
            "text/plain": [
              "LogisticRegression()"
            ],
            "text/html": [
              "<style>#sk-container-id-2 {color: black;background-color: white;}#sk-container-id-2 pre{padding: 0;}#sk-container-id-2 div.sk-toggleable {background-color: white;}#sk-container-id-2 label.sk-toggleable__label {cursor: pointer;display: block;width: 100%;margin-bottom: 0;padding: 0.3em;box-sizing: border-box;text-align: center;}#sk-container-id-2 label.sk-toggleable__label-arrow:before {content: \"▸\";float: left;margin-right: 0.25em;color: #696969;}#sk-container-id-2 label.sk-toggleable__label-arrow:hover:before {color: black;}#sk-container-id-2 div.sk-estimator:hover label.sk-toggleable__label-arrow:before {color: black;}#sk-container-id-2 div.sk-toggleable__content {max-height: 0;max-width: 0;overflow: hidden;text-align: left;background-color: #f0f8ff;}#sk-container-id-2 div.sk-toggleable__content pre {margin: 0.2em;color: black;border-radius: 0.25em;background-color: #f0f8ff;}#sk-container-id-2 input.sk-toggleable__control:checked~div.sk-toggleable__content {max-height: 200px;max-width: 100%;overflow: auto;}#sk-container-id-2 input.sk-toggleable__control:checked~label.sk-toggleable__label-arrow:before {content: \"▾\";}#sk-container-id-2 div.sk-estimator input.sk-toggleable__control:checked~label.sk-toggleable__label {background-color: #d4ebff;}#sk-container-id-2 div.sk-label input.sk-toggleable__control:checked~label.sk-toggleable__label {background-color: #d4ebff;}#sk-container-id-2 input.sk-hidden--visually {border: 0;clip: rect(1px 1px 1px 1px);clip: rect(1px, 1px, 1px, 1px);height: 1px;margin: -1px;overflow: hidden;padding: 0;position: absolute;width: 1px;}#sk-container-id-2 div.sk-estimator {font-family: monospace;background-color: #f0f8ff;border: 1px dotted black;border-radius: 0.25em;box-sizing: border-box;margin-bottom: 0.5em;}#sk-container-id-2 div.sk-estimator:hover {background-color: #d4ebff;}#sk-container-id-2 div.sk-parallel-item::after {content: \"\";width: 100%;border-bottom: 1px solid gray;flex-grow: 1;}#sk-container-id-2 div.sk-label:hover label.sk-toggleable__label {background-color: #d4ebff;}#sk-container-id-2 div.sk-serial::before {content: \"\";position: absolute;border-left: 1px solid gray;box-sizing: border-box;top: 0;bottom: 0;left: 50%;z-index: 0;}#sk-container-id-2 div.sk-serial {display: flex;flex-direction: column;align-items: center;background-color: white;padding-right: 0.2em;padding-left: 0.2em;position: relative;}#sk-container-id-2 div.sk-item {position: relative;z-index: 1;}#sk-container-id-2 div.sk-parallel {display: flex;align-items: stretch;justify-content: center;background-color: white;position: relative;}#sk-container-id-2 div.sk-item::before, #sk-container-id-2 div.sk-parallel-item::before {content: \"\";position: absolute;border-left: 1px solid gray;box-sizing: border-box;top: 0;bottom: 0;left: 50%;z-index: -1;}#sk-container-id-2 div.sk-parallel-item {display: flex;flex-direction: column;z-index: 1;position: relative;background-color: white;}#sk-container-id-2 div.sk-parallel-item:first-child::after {align-self: flex-end;width: 50%;}#sk-container-id-2 div.sk-parallel-item:last-child::after {align-self: flex-start;width: 50%;}#sk-container-id-2 div.sk-parallel-item:only-child::after {width: 0;}#sk-container-id-2 div.sk-dashed-wrapped {border: 1px dashed gray;margin: 0 0.4em 0.5em 0.4em;box-sizing: border-box;padding-bottom: 0.4em;background-color: white;}#sk-container-id-2 div.sk-label label {font-family: monospace;font-weight: bold;display: inline-block;line-height: 1.2em;}#sk-container-id-2 div.sk-label-container {text-align: center;}#sk-container-id-2 div.sk-container {/* jupyter's `normalize.less` sets `[hidden] { display: none; }` but bootstrap.min.css set `[hidden] { display: none !important; }` so we also need the `!important` here to be able to override the default hidden behavior on the sphinx rendered scikit-learn.org. See: https://github.com/scikit-learn/scikit-learn/issues/21755 */display: inline-block !important;position: relative;}#sk-container-id-2 div.sk-text-repr-fallback {display: none;}</style><div id=\"sk-container-id-2\" class=\"sk-top-container\"><div class=\"sk-text-repr-fallback\"><pre>LogisticRegression()</pre><b>In a Jupyter environment, please rerun this cell to show the HTML representation or trust the notebook. <br />On GitHub, the HTML representation is unable to render, please try loading this page with nbviewer.org.</b></div><div class=\"sk-container\" hidden><div class=\"sk-item\"><div class=\"sk-estimator sk-toggleable\"><input class=\"sk-toggleable__control sk-hidden--visually\" id=\"sk-estimator-id-2\" type=\"checkbox\" checked><label for=\"sk-estimator-id-2\" class=\"sk-toggleable__label sk-toggleable__label-arrow\">LogisticRegression</label><div class=\"sk-toggleable__content\"><pre>LogisticRegression()</pre></div></div></div></div></div>"
            ]
          },
          "metadata": {},
          "execution_count": 94
        }
      ]
    },
    {
      "cell_type": "code",
      "source": [
        "pred_cbow = model_cbow_regression.predict(list(x_test))\n",
        "print(classification_report(y_test, pred_cbow))"
      ],
      "metadata": {
        "colab": {
          "base_uri": "https://localhost:8080/"
        },
        "id": "BPH_vUeSHo6V",
        "outputId": "92a21907-7e2a-4e00-b97f-c68a5937c8a4"
      },
      "execution_count": 100,
      "outputs": [
        {
          "output_type": "stream",
          "name": "stdout",
          "text": [
            "              precision    recall  f1-score   support\n",
            "\n",
            "           0       0.86      1.00      0.92      1190\n",
            "           1       0.79      0.05      0.10       204\n",
            "\n",
            "    accuracy                           0.86      1394\n",
            "   macro avg       0.82      0.53      0.51      1394\n",
            "weighted avg       0.85      0.86      0.80      1394\n",
            "\n"
          ]
        }
      ]
    },
    {
      "cell_type": "code",
      "source": [
        "x_train, x_test, y_train, y_test = train_test_split(data['vector_fasttext'], data['label'],random_state=RANDOM_STATE)"
      ],
      "metadata": {
        "id": "ffHsBJyyEldD"
      },
      "execution_count": 95,
      "outputs": []
    },
    {
      "cell_type": "code",
      "source": [
        "# Создание и обучение модели логистической регрессии на эмбеддингах fast text\n",
        "model_fasttext_regression = LogisticRegression()\n",
        "model_fasttext_regression.fit(list(x_train), y_train)"
      ],
      "metadata": {
        "id": "MdaVe2aMPs8S",
        "colab": {
          "base_uri": "https://localhost:8080/",
          "height": 74
        },
        "outputId": "b1f68423-dca8-4d99-8bf4-9fa8944056d8"
      },
      "execution_count": 96,
      "outputs": [
        {
          "output_type": "execute_result",
          "data": {
            "text/plain": [
              "LogisticRegression()"
            ],
            "text/html": [
              "<style>#sk-container-id-3 {color: black;background-color: white;}#sk-container-id-3 pre{padding: 0;}#sk-container-id-3 div.sk-toggleable {background-color: white;}#sk-container-id-3 label.sk-toggleable__label {cursor: pointer;display: block;width: 100%;margin-bottom: 0;padding: 0.3em;box-sizing: border-box;text-align: center;}#sk-container-id-3 label.sk-toggleable__label-arrow:before {content: \"▸\";float: left;margin-right: 0.25em;color: #696969;}#sk-container-id-3 label.sk-toggleable__label-arrow:hover:before {color: black;}#sk-container-id-3 div.sk-estimator:hover label.sk-toggleable__label-arrow:before {color: black;}#sk-container-id-3 div.sk-toggleable__content {max-height: 0;max-width: 0;overflow: hidden;text-align: left;background-color: #f0f8ff;}#sk-container-id-3 div.sk-toggleable__content pre {margin: 0.2em;color: black;border-radius: 0.25em;background-color: #f0f8ff;}#sk-container-id-3 input.sk-toggleable__control:checked~div.sk-toggleable__content {max-height: 200px;max-width: 100%;overflow: auto;}#sk-container-id-3 input.sk-toggleable__control:checked~label.sk-toggleable__label-arrow:before {content: \"▾\";}#sk-container-id-3 div.sk-estimator input.sk-toggleable__control:checked~label.sk-toggleable__label {background-color: #d4ebff;}#sk-container-id-3 div.sk-label input.sk-toggleable__control:checked~label.sk-toggleable__label {background-color: #d4ebff;}#sk-container-id-3 input.sk-hidden--visually {border: 0;clip: rect(1px 1px 1px 1px);clip: rect(1px, 1px, 1px, 1px);height: 1px;margin: -1px;overflow: hidden;padding: 0;position: absolute;width: 1px;}#sk-container-id-3 div.sk-estimator {font-family: monospace;background-color: #f0f8ff;border: 1px dotted black;border-radius: 0.25em;box-sizing: border-box;margin-bottom: 0.5em;}#sk-container-id-3 div.sk-estimator:hover {background-color: #d4ebff;}#sk-container-id-3 div.sk-parallel-item::after {content: \"\";width: 100%;border-bottom: 1px solid gray;flex-grow: 1;}#sk-container-id-3 div.sk-label:hover label.sk-toggleable__label {background-color: #d4ebff;}#sk-container-id-3 div.sk-serial::before {content: \"\";position: absolute;border-left: 1px solid gray;box-sizing: border-box;top: 0;bottom: 0;left: 50%;z-index: 0;}#sk-container-id-3 div.sk-serial {display: flex;flex-direction: column;align-items: center;background-color: white;padding-right: 0.2em;padding-left: 0.2em;position: relative;}#sk-container-id-3 div.sk-item {position: relative;z-index: 1;}#sk-container-id-3 div.sk-parallel {display: flex;align-items: stretch;justify-content: center;background-color: white;position: relative;}#sk-container-id-3 div.sk-item::before, #sk-container-id-3 div.sk-parallel-item::before {content: \"\";position: absolute;border-left: 1px solid gray;box-sizing: border-box;top: 0;bottom: 0;left: 50%;z-index: -1;}#sk-container-id-3 div.sk-parallel-item {display: flex;flex-direction: column;z-index: 1;position: relative;background-color: white;}#sk-container-id-3 div.sk-parallel-item:first-child::after {align-self: flex-end;width: 50%;}#sk-container-id-3 div.sk-parallel-item:last-child::after {align-self: flex-start;width: 50%;}#sk-container-id-3 div.sk-parallel-item:only-child::after {width: 0;}#sk-container-id-3 div.sk-dashed-wrapped {border: 1px dashed gray;margin: 0 0.4em 0.5em 0.4em;box-sizing: border-box;padding-bottom: 0.4em;background-color: white;}#sk-container-id-3 div.sk-label label {font-family: monospace;font-weight: bold;display: inline-block;line-height: 1.2em;}#sk-container-id-3 div.sk-label-container {text-align: center;}#sk-container-id-3 div.sk-container {/* jupyter's `normalize.less` sets `[hidden] { display: none; }` but bootstrap.min.css set `[hidden] { display: none !important; }` so we also need the `!important` here to be able to override the default hidden behavior on the sphinx rendered scikit-learn.org. See: https://github.com/scikit-learn/scikit-learn/issues/21755 */display: inline-block !important;position: relative;}#sk-container-id-3 div.sk-text-repr-fallback {display: none;}</style><div id=\"sk-container-id-3\" class=\"sk-top-container\"><div class=\"sk-text-repr-fallback\"><pre>LogisticRegression()</pre><b>In a Jupyter environment, please rerun this cell to show the HTML representation or trust the notebook. <br />On GitHub, the HTML representation is unable to render, please try loading this page with nbviewer.org.</b></div><div class=\"sk-container\" hidden><div class=\"sk-item\"><div class=\"sk-estimator sk-toggleable\"><input class=\"sk-toggleable__control sk-hidden--visually\" id=\"sk-estimator-id-3\" type=\"checkbox\" checked><label for=\"sk-estimator-id-3\" class=\"sk-toggleable__label sk-toggleable__label-arrow\">LogisticRegression</label><div class=\"sk-toggleable__content\"><pre>LogisticRegression()</pre></div></div></div></div></div>"
            ]
          },
          "metadata": {},
          "execution_count": 96
        }
      ]
    },
    {
      "cell_type": "code",
      "source": [
        "pred_fasttext = model_fasttext_regression.predict(list(x_test))\n",
        "print(classification_report(y_test, pred_fasttext))"
      ],
      "metadata": {
        "colab": {
          "base_uri": "https://localhost:8080/"
        },
        "id": "M6MEnbNLIBHs",
        "outputId": "624809c6-2df0-422a-818c-f65769481c7a"
      },
      "execution_count": 101,
      "outputs": [
        {
          "output_type": "stream",
          "name": "stdout",
          "text": [
            "              precision    recall  f1-score   support\n",
            "\n",
            "           0       0.96      0.98      0.97      1190\n",
            "           1       0.84      0.74      0.79       204\n",
            "\n",
            "    accuracy                           0.94      1394\n",
            "   macro avg       0.90      0.86      0.88      1394\n",
            "weighted avg       0.94      0.94      0.94      1394\n",
            "\n"
          ]
        }
      ]
    },
    {
      "cell_type": "markdown",
      "source": [
        "ВЫВОД:\n",
        "Лучше всего себя показал Fasttext\n",
        "А CBOW показал самый плохой результат"
      ],
      "metadata": {
        "id": "MaMMaKf5IZtY"
      }
    }
  ]
}